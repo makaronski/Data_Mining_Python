{
 "cells": [
  {
   "cell_type": "markdown",
   "metadata": {
    "deletable": true,
    "editable": true
   },
   "source": [
    "# Session 3"
   ]
  },
  {
   "cell_type": "code",
   "execution_count": 1,
   "metadata": {
    "collapsed": false,
    "deletable": true,
    "editable": true
   },
   "outputs": [],
   "source": [
    "import pandas as pd\n",
    "import numpy as np\n",
    "%matplotlib inline\n",
    "import matplotlib.pyplot as plt\n",
    "from sklearn.model_selection import KFold, train_test_split\n",
    "from sklearn.preprocessing import *\n",
    "from sklearn.naive_bayes import GaussianNB\n",
    "from sklearn.discriminant_analysis import *\n",
    "from sklearn.neighbors import KNeighborsClassifier\n",
    "from sklearn.linear_model import *\n",
    "from sklearn.metrics import roc_curve, auc"
   ]
  },
  {
   "cell_type": "markdown",
   "metadata": {
    "deletable": true,
    "editable": true
   },
   "source": [
    "### Spam Data\n",
    "\n",
    "In this session, we will use classifiers to detect email spam. The dataset is provided by the authors of the book [Elements of Statistical Learning](http://statweb.stanford.edu/~tibs/ElemStatLearn/). The dataset has got 57 continuous features and a binary response. Since the elements are separated by spaces, we will use the regular expression for whitespace characters to import the data into Pandas."
   ]
  },
  {
   "cell_type": "code",
   "execution_count": 2,
   "metadata": {
    "collapsed": false,
    "deletable": true,
    "editable": true
   },
   "outputs": [
    {
     "data": {
      "text/html": [
       "<div>\n",
       "<style scoped>\n",
       "    .dataframe tbody tr th:only-of-type {\n",
       "        vertical-align: middle;\n",
       "    }\n",
       "\n",
       "    .dataframe tbody tr th {\n",
       "        vertical-align: top;\n",
       "    }\n",
       "\n",
       "    .dataframe thead th {\n",
       "        text-align: right;\n",
       "    }\n",
       "</style>\n",
       "<table border=\"1\" class=\"dataframe\">\n",
       "  <thead>\n",
       "    <tr style=\"text-align: right;\">\n",
       "      <th></th>\n",
       "      <th>0</th>\n",
       "      <th>1</th>\n",
       "      <th>2</th>\n",
       "      <th>3</th>\n",
       "      <th>4</th>\n",
       "      <th>5</th>\n",
       "      <th>6</th>\n",
       "      <th>7</th>\n",
       "      <th>8</th>\n",
       "      <th>9</th>\n",
       "      <th>...</th>\n",
       "      <th>48</th>\n",
       "      <th>49</th>\n",
       "      <th>50</th>\n",
       "      <th>51</th>\n",
       "      <th>52</th>\n",
       "      <th>53</th>\n",
       "      <th>54</th>\n",
       "      <th>55</th>\n",
       "      <th>56</th>\n",
       "      <th>Spam</th>\n",
       "    </tr>\n",
       "  </thead>\n",
       "  <tbody>\n",
       "    <tr>\n",
       "      <th>0</th>\n",
       "      <td>0.00</td>\n",
       "      <td>0.64</td>\n",
       "      <td>0.64</td>\n",
       "      <td>0.0</td>\n",
       "      <td>0.32</td>\n",
       "      <td>0.00</td>\n",
       "      <td>0.00</td>\n",
       "      <td>0.00</td>\n",
       "      <td>0.00</td>\n",
       "      <td>0.00</td>\n",
       "      <td>...</td>\n",
       "      <td>0.00</td>\n",
       "      <td>0.000</td>\n",
       "      <td>0.0</td>\n",
       "      <td>0.778</td>\n",
       "      <td>0.000</td>\n",
       "      <td>0.000</td>\n",
       "      <td>3.756</td>\n",
       "      <td>61</td>\n",
       "      <td>278</td>\n",
       "      <td>1</td>\n",
       "    </tr>\n",
       "    <tr>\n",
       "      <th>1</th>\n",
       "      <td>0.21</td>\n",
       "      <td>0.28</td>\n",
       "      <td>0.50</td>\n",
       "      <td>0.0</td>\n",
       "      <td>0.14</td>\n",
       "      <td>0.28</td>\n",
       "      <td>0.21</td>\n",
       "      <td>0.07</td>\n",
       "      <td>0.00</td>\n",
       "      <td>0.94</td>\n",
       "      <td>...</td>\n",
       "      <td>0.00</td>\n",
       "      <td>0.132</td>\n",
       "      <td>0.0</td>\n",
       "      <td>0.372</td>\n",
       "      <td>0.180</td>\n",
       "      <td>0.048</td>\n",
       "      <td>5.114</td>\n",
       "      <td>101</td>\n",
       "      <td>1028</td>\n",
       "      <td>1</td>\n",
       "    </tr>\n",
       "    <tr>\n",
       "      <th>2</th>\n",
       "      <td>0.06</td>\n",
       "      <td>0.00</td>\n",
       "      <td>0.71</td>\n",
       "      <td>0.0</td>\n",
       "      <td>1.23</td>\n",
       "      <td>0.19</td>\n",
       "      <td>0.19</td>\n",
       "      <td>0.12</td>\n",
       "      <td>0.64</td>\n",
       "      <td>0.25</td>\n",
       "      <td>...</td>\n",
       "      <td>0.01</td>\n",
       "      <td>0.143</td>\n",
       "      <td>0.0</td>\n",
       "      <td>0.276</td>\n",
       "      <td>0.184</td>\n",
       "      <td>0.010</td>\n",
       "      <td>9.821</td>\n",
       "      <td>485</td>\n",
       "      <td>2259</td>\n",
       "      <td>1</td>\n",
       "    </tr>\n",
       "    <tr>\n",
       "      <th>3</th>\n",
       "      <td>0.00</td>\n",
       "      <td>0.00</td>\n",
       "      <td>0.00</td>\n",
       "      <td>0.0</td>\n",
       "      <td>0.63</td>\n",
       "      <td>0.00</td>\n",
       "      <td>0.31</td>\n",
       "      <td>0.63</td>\n",
       "      <td>0.31</td>\n",
       "      <td>0.63</td>\n",
       "      <td>...</td>\n",
       "      <td>0.00</td>\n",
       "      <td>0.137</td>\n",
       "      <td>0.0</td>\n",
       "      <td>0.137</td>\n",
       "      <td>0.000</td>\n",
       "      <td>0.000</td>\n",
       "      <td>3.537</td>\n",
       "      <td>40</td>\n",
       "      <td>191</td>\n",
       "      <td>1</td>\n",
       "    </tr>\n",
       "    <tr>\n",
       "      <th>4</th>\n",
       "      <td>0.00</td>\n",
       "      <td>0.00</td>\n",
       "      <td>0.00</td>\n",
       "      <td>0.0</td>\n",
       "      <td>0.63</td>\n",
       "      <td>0.00</td>\n",
       "      <td>0.31</td>\n",
       "      <td>0.63</td>\n",
       "      <td>0.31</td>\n",
       "      <td>0.63</td>\n",
       "      <td>...</td>\n",
       "      <td>0.00</td>\n",
       "      <td>0.135</td>\n",
       "      <td>0.0</td>\n",
       "      <td>0.135</td>\n",
       "      <td>0.000</td>\n",
       "      <td>0.000</td>\n",
       "      <td>3.537</td>\n",
       "      <td>40</td>\n",
       "      <td>191</td>\n",
       "      <td>1</td>\n",
       "    </tr>\n",
       "  </tbody>\n",
       "</table>\n",
       "<p>5 rows × 58 columns</p>\n",
       "</div>"
      ],
      "text/plain": [
       "      0     1     2    3     4     5     6     7     8     9  ...     48  \\\n",
       "0  0.00  0.64  0.64  0.0  0.32  0.00  0.00  0.00  0.00  0.00  ...   0.00   \n",
       "1  0.21  0.28  0.50  0.0  0.14  0.28  0.21  0.07  0.00  0.94  ...   0.00   \n",
       "2  0.06  0.00  0.71  0.0  1.23  0.19  0.19  0.12  0.64  0.25  ...   0.01   \n",
       "3  0.00  0.00  0.00  0.0  0.63  0.00  0.31  0.63  0.31  0.63  ...   0.00   \n",
       "4  0.00  0.00  0.00  0.0  0.63  0.00  0.31  0.63  0.31  0.63  ...   0.00   \n",
       "\n",
       "      49   50     51     52     53     54   55    56  Spam  \n",
       "0  0.000  0.0  0.778  0.000  0.000  3.756   61   278     1  \n",
       "1  0.132  0.0  0.372  0.180  0.048  5.114  101  1028     1  \n",
       "2  0.143  0.0  0.276  0.184  0.010  9.821  485  2259     1  \n",
       "3  0.137  0.0  0.137  0.000  0.000  3.537   40   191     1  \n",
       "4  0.135  0.0  0.135  0.000  0.000  3.537   40   191     1  \n",
       "\n",
       "[5 rows x 58 columns]"
      ]
     },
     "execution_count": 2,
     "metadata": {},
     "output_type": "execute_result"
    }
   ],
   "source": [
    "df = pd.read_csv('https://web.stanford.edu/~hastie/ElemStatLearn/datasets/spam.data', \n",
    "                 engine='python', sep='\\\\s', header=None)\n",
    "feat_index = list(range(57))\n",
    "df.columns = feat_index+['Spam']\n",
    "df.head()"
   ]
  },
  {
   "cell_type": "markdown",
   "metadata": {
    "deletable": true,
    "editable": true
   },
   "source": [
    "### Cross Validation: Shuffle Split\n",
    "Instead of using k-fold cross validation, we will use a simple shuffle split that randomly separates the data into 3 parts training data and 1 part test data."
   ]
  },
  {
   "cell_type": "code",
   "execution_count": 3,
   "metadata": {
    "collapsed": false,
    "deletable": true,
    "editable": true
   },
   "outputs": [],
   "source": [
    "X = df[feat_index].values\n",
    "y = df.Spam.values"
   ]
  },
  {
   "cell_type": "code",
   "execution_count": 4,
   "metadata": {
    "collapsed": false,
    "deletable": true,
    "editable": true
   },
   "outputs": [],
   "source": [
    "X_train, X_test, y_train, y_test = train_test_split(X, y, test_size=0.25)"
   ]
  },
  {
   "cell_type": "markdown",
   "metadata": {
    "deletable": true,
    "editable": true
   },
   "source": [
    "## Bayes Classifier"
   ]
  },
  {
   "cell_type": "markdown",
   "metadata": {
    "deletable": true,
    "editable": true
   },
   "source": [
    "Denote $P(y=k)$ as the (prior) probability of observation $y$ being a member of class $k$, $P(x=X)$ as the probability of observing $x$, and $P(X=k|y=k)$ as the (posterior) probability of observing $x$ given class $y$. Then using Bayes's rule, we can define the conditional probability of an observation belonging to class $k$ given $x$ as\n",
    "\n",
    "$$P(y=k|X=k)= \\frac{P(Y=y)P(X=x|y=k)}{P(X=x)}$$\n",
    "\n",
    "A new observation $x$ can be classified by choosing the class $k$, for which $P(y=k|X=k)$ is largest. Since $P(X=x)$ is independent of $k$, we can drop the denominator and select the class $k$ that maximizes\n",
    "\n",
    "$$P(y=k|X=x) = P(y=k) P(X=x|y=k)$$\n",
    "\n",
    "The Bayes classfier has the lowest possible error rate among all classfiers if we can specify the correct probabilities. Since this is rarely possible for real data, we must make certain assumptions about the data and develop an approximation of the Bayes classfier. One such approach is linear discriminant analysis (LDA).\n",
    "\n",
    "### Linear Discriminant Analysis\n",
    "\n",
    "If we assume that the conditional probability of class membership follows a normal distribution with identical covariance matrix, the Bayes optimal classifier is to assign an observation to the class with the higher liklihood. A more detailed explanation can be found in Chapters 4.4.2 and 4.4.3 of [Introduction to Statsitical Learning](http://www-bcf.usc.edu/~gareth/ISL)"
   ]
  },
  {
   "cell_type": "code",
   "execution_count": 5,
   "metadata": {
    "collapsed": false,
    "deletable": true,
    "editable": true
   },
   "outputs": [
    {
     "data": {
      "text/plain": [
       "'accuracy: 86.8 percent'"
      ]
     },
     "execution_count": 5,
     "metadata": {},
     "output_type": "execute_result"
    }
   ],
   "source": [
    "clf1 = LinearDiscriminantAnalysis()\n",
    "clf1.fit(X_train, y_train)\n",
    "accuracy = clf1.score(X_test, y_test)\n",
    "\"accuracy: %.1f percent\"%(100*accuracy)"
   ]
  },
  {
   "cell_type": "markdown",
   "metadata": {
    "deletable": true,
    "editable": true
   },
   "source": [
    "### Quadratic Discriminant Analysis\n",
    "\n",
    "If we drop the assumption of having one identical covariance matrix, but rather allow each class to have its covariance matrix, we arrive at quadratic discriminant analysis (QDA)."
   ]
  },
  {
   "cell_type": "code",
   "execution_count": 6,
   "metadata": {
    "collapsed": false,
    "deletable": true,
    "editable": true
   },
   "outputs": [
    {
     "data": {
      "text/plain": [
       "'accuracy: 83.2 percent'"
      ]
     },
     "execution_count": 6,
     "metadata": {},
     "output_type": "execute_result"
    }
   ],
   "source": [
    "clf2 = QuadraticDiscriminantAnalysis()\n",
    "clf2.fit(X_train, y_train)\n",
    "accuracy = clf2.score(X_test, y_test)\n",
    "\"accuracy: %.1f percent\"%(100*accuracy)"
   ]
  },
  {
   "cell_type": "markdown",
   "metadata": {
    "deletable": true,
    "editable": true
   },
   "source": [
    "In our case QDA is worse than LDA, which shows that using a more complex learner is not always better, as it typically requires more parameters to set. In this case, we must estimate parameters for two covariance matrices as opposed to one.\n",
    "\n",
    "### Naive Bayes\n",
    "\n",
    "We can also go the other direction by assuming that all features are independent. In this case, the Bayes classifier can be greatly simplified and we no further need to estimate a covariance matrix, but rather need to compute mean and standard deviation for each feature and class. Although this approach represents an extreme simplification, which is why it is called Naive Bayes, the method scales extremely well across thousands of features."
   ]
  },
  {
   "cell_type": "code",
   "execution_count": 7,
   "metadata": {
    "collapsed": false,
    "deletable": true,
    "editable": true
   },
   "outputs": [
    {
     "data": {
      "text/plain": [
       "'accuracy: 82.3 percent'"
      ]
     },
     "execution_count": 7,
     "metadata": {},
     "output_type": "execute_result"
    }
   ],
   "source": [
    "clf3 = GaussianNB()\n",
    "clf3.fit(X_train, y_train)\n",
    "accuracy = clf3.score(X_test, y_test)\n",
    "\"accuracy: %.1f percent\"%(100*accuracy)"
   ]
  },
  {
   "cell_type": "markdown",
   "metadata": {
    "deletable": true,
    "editable": true
   },
   "source": [
    "Although it has much fewer parameters, Naive Bayes is at par with QDA. This demonstrates that despite its simplicity, Naive Bayes provides a good the benchmark against which any other more complex classifier can be compared. If a more complex learner does not outperform a simple learner, the simple learner is to be preferred. In our case Naive Bayes is to be preferred over QDA."
   ]
  },
  {
   "cell_type": "markdown",
   "metadata": {
    "deletable": true,
    "editable": true
   },
   "source": [
    "## The ROC Curve\n",
    "\n",
    "A receiver operating characteristic (ROC) curve, is a graph that visualizes the accuracy of a binary classifier with varying discrimination threshold. The ROC curve plots the true positive rate (TPR) against the false positive rate (FPR) for different thresholds, i.e. the value at which the class label changes or the posterior probability. The area under the curve (AUC) thereby provides information about the optimality of a classifier and can be used to select classification models. "
   ]
  },
  {
   "cell_type": "code",
   "execution_count": 8,
   "metadata": {
    "collapsed": false,
    "deletable": true,
    "editable": true
   },
   "outputs": [
    {
     "data": {
      "image/png": "[encoded data removed]",
      "text/plain": [
       "<Figure size 432x288 with 1 Axes>"
      ]
     },
     "metadata": {},
     "output_type": "display_data"
    }
   ],
   "source": [
    "plt.figure()\n",
    "colors = {clf1: \"orange\", clf2: \"red\", clf3: \"green\"}\n",
    "for clf in [clf1,clf2,clf3]:\n",
    "    roc = roc_curve(y_test,clf.predict(X_test))\n",
    "    area = auc(roc[0], roc[1])\n",
    "    plt.plot(roc[0], roc[1], \n",
    "             color=colors[clf],\n",
    "             label='%s (AUC = %0.2f)'%(clf.__class__.__name__,area))\n",
    "plt.plot([0, 1], [0, 1], color='black', linestyle='--')\n",
    "plt.xlim([0.0, 1.0])\n",
    "plt.ylim([0.0, 1.05])\n",
    "plt.xlabel('FPR')\n",
    "plt.ylabel('TPR')\n",
    "plt.title('ROC curve')\n",
    "plt.legend(loc=\"lower right\")\n",
    "plt.show()"
   ]
  },
  {
   "cell_type": "markdown",
   "metadata": {
    "deletable": true,
    "editable": true
   },
   "source": [
    "## Nearest Neighbor Classifier\n",
    "\n",
    "One of the most basic classifiers is the nearest neighbor classifier. Unlike the Bayesian classifiers or logistic regression, nearest neighbor is not model based, but used the data itself for prediction. Nearest neighbor is quite simple. All it takes is some measure of similarity, like the distance between the feature vectors, then new observations are classified by taking the class (the majority class) of the nearest neighbor (neighbors)."
   ]
  },
  {
   "cell_type": "code",
   "execution_count": 9,
   "metadata": {
    "collapsed": false,
    "deletable": true,
    "editable": true
   },
   "outputs": [
    {
     "data": {
      "text/plain": [
       "'accuracy: 78.9 percent'"
      ]
     },
     "execution_count": 9,
     "metadata": {},
     "output_type": "execute_result"
    }
   ],
   "source": [
    "clf = KNeighborsClassifier()\n",
    "clf.fit(X_train, y_train)\n",
    "accuracy = clf.score(X_test, y_test)\n",
    "\"accuracy: %.1f percent\"%(100*accuracy)"
   ]
  },
  {
   "cell_type": "markdown",
   "metadata": {
    "deletable": true,
    "editable": true
   },
   "source": [
    "The nearest neighbor classifier is highly sensitive towards the similarity measure. If, for instance, the Euclidean distance is used, features that have the larger scale also have a larger effect on the distance. This means that features with larger scales implicitly receive a higher weight than data with a smaller scale.\n",
    "\n",
    "For example, assume one feature is income with observations ranging from \\$10,000 to \\$250,000, whereas another features is temperature with observations ranging from -10°C to 40°C. Any new observation is compared with all other observations by measuring the Euclidean distance between the feature vectors, i.e.,\n",
    "\n",
    "$$d(x_1,x_2) = \\sqrt{\\sum_{j=1}^p (x_{1j}-x_{2j})^2}$$\n",
    "\n",
    "It is quite obvious that $(250000-10000)^2$ contributes more to the distance than of $(-10-40)^2$, even though both mark the boundaries of the sample space.\n",
    "\n",
    "### Scaling\n",
    "A popular solution to this problem is scaling, whereby the most common type of scaling is normalization.\n",
    "\n",
    "Denote $x_{ij}$ as the $j$-th predictor of the $i$-th observation, with $\\mu_j$ as its mean and $\\sigma_j$ as the standard deviation. Then the standardized observation $z_{ij}$ is given by\n",
    "\n",
    "$$ z_{ij}= \\frac{x_{ij}-\\mu_j}{\\sigma_j}, \\ j=1,\\dots,p,\\ i=1,\\dots,n$$\n",
    "\n",
    "Although the boundaries of the data may still deviate the average distance in each dimension is now equal to one. An alternative to using the standard deviation is to use the inter-quartile range, which may be beneficial in the presence of outliers. Also see: http://scikit-learn.org/stable/modules/preprocessing.html\n",
    "\n",
    "Let us scale our data using scikit's *StandardScaler*."
   ]
  },
  {
   "cell_type": "code",
   "execution_count": 10,
   "metadata": {
    "collapsed": true,
    "deletable": true,
    "editable": true
   },
   "outputs": [],
   "source": [
    "scaler = StandardScaler().fit(X_train)\n",
    "X_train_sc = scaler.transform(X_train)\n",
    "X_test_sc = scaler.transform(X_test)"
   ]
  },
  {
   "cell_type": "markdown",
   "metadata": {
    "deletable": true,
    "editable": true
   },
   "source": [
    "After scaling the accuracy of the nearest neighbor classfier gas increased from about 80 to 90 percent, which is at par with LDA and logistic regression. (Note that the accuracy figures deviate depending on which observations are used for training and which for testing.)"
   ]
  },
  {
   "cell_type": "code",
   "execution_count": 11,
   "metadata": {
    "collapsed": false,
    "deletable": true,
    "editable": true
   },
   "outputs": [
    {
     "data": {
      "text/plain": [
       "'accuracy: 89.5 percent'"
      ]
     },
     "execution_count": 11,
     "metadata": {},
     "output_type": "execute_result"
    }
   ],
   "source": [
    "clf = KNeighborsClassifier()\n",
    "clf.fit(X_train_sc, y_train)\n",
    "accuracy = clf.score(X_test_sc, y_test)\n",
    "\"accuracy: %.1f percent\"%(100*accuracy)"
   ]
  },
  {
   "cell_type": "markdown",
   "metadata": {
    "deletable": true,
    "editable": true
   },
   "source": [
    "## Logistic Regression\n",
    "\n",
    "Let us assume that the conditional probability of an observation being a member of class '0' or class '1' for a given set of features $X$ can be defined by the logistic function\n",
    "\n",
    "$$P(y=1|X=x) = \\frac{1}{1+\\exp(- b x)}$$\n",
    "\n",
    "and \n",
    "\n",
    "$$P(y=0|X=x) = 1-P(y=1|X=x) = 1-\\frac{1}{1+\\exp(- b x)}$$\n",
    "\n",
    "The optimal parameters $b$ are those that maximize the liklihood of making the given observations. \n",
    "\n",
    "### Maximum Liklihood Estimator\n",
    "\n",
    "To maximize the liklihood, we must first specify the liklihood function, which in our case is the joint probability for all observation. Assuming that observations are independent and identically distributed, the joint probability is simply the product of the conditional probabilities defined by the logistic function. More specifically, the liklihood function is given by\n",
    "\n",
    "$$\\max \\mathcal{L}(b) \\equiv \\prod_{i:y_i=1} P(y_i=1|X=x_i)\\prod_{i:y_i=1} (1-P(y_i=1|X=x_i))$$\n",
    "\n",
    "Instead of working with the liklihood function directly, it is more convenient to take the natural logarith, which gives us the so-called log-liklihood\n",
    "\n",
    "$$\\max \\ln \\mathcal{L}(b) \\equiv \\sum_{i:y_i=1} \\ln P(y_i=1|X=x_i)\\sum_{i:y_i=1} \\ln (1-P(y_i=1|X=x_i))$$\n",
    "\n",
    "As for the case of linear regression, we take the partial derivative of the log-liklihood function with respect to each element of parameter vector $b$ to derive the gradient,\n",
    "\n",
    "$$\\nabla \\log \\mathcal{L}(b) = \\sum_i \\left(y_i-\\frac{1}{1+\\exp(- b x_i)}\\right) x_i$$\n",
    "\n",
    "The gradient points in the direction of steepest ascent towards the $b$ that maximizes the log-liklihood. Since the logarithm is a monotone increasing function, the value that maximizes the log-liklihood also maximizes liklihood.\n",
    "\n",
    "Running logistic regression in scikit-learn is as simple as using linear regression, since the main difficulties of estimating the parameters are hidden inside the *LogisticRegression* class."
   ]
  },
  {
   "cell_type": "code",
   "execution_count": 12,
   "metadata": {
    "collapsed": false,
    "deletable": true,
    "editable": true
   },
   "outputs": [
    {
     "data": {
      "text/plain": [
       "'accuracy: 90.7 percent'"
      ]
     },
     "execution_count": 12,
     "metadata": {},
     "output_type": "execute_result"
    }
   ],
   "source": [
    "clf = LogisticRegression()\n",
    "clf.fit(X_train, y_train)\n",
    "accuracy = clf.score(X_test, y_test)\n",
    "\"accuracy: %.1f percent\"%(100*accuracy)"
   ]
  },
  {
   "cell_type": "markdown",
   "metadata": {
    "deletable": true,
    "editable": true
   },
   "source": [
    "### Stochastic Gradient Descent \n",
    "\n",
    "Much like with linear regression, we can use the gradient of the maximum liklihood problem to search for the optimal parameters of the logistic function.\n",
    "\n",
    "Instead of computing the full gradient, we again update the gradient after having obtained the fraction of the slope that corresponds to a randomly drawn observation $x_i$. \n",
    "\n",
    "1. Choose initial guess $\\hat{b}_0$, stepsize $\\alpha$ \n",
    "2. <b>for</b> k = 0, 1, 2, ... <b>do</b>\n",
    "3. &nbsp;&nbsp;&nbsp;&nbsp;&nbsp; Draw randomly $i \\sim U(1,n)$\n",
    "4. &nbsp;&nbsp;&nbsp;&nbsp;&nbsp; $\\nabla \\log P(y_i=1|x_i;\\hat{b}_k) = \\left(y_i-(1+\\exp(- \\hat{b}_k X_i))^{-1}\\right) X_i$\n",
    "5. &nbsp;&nbsp;&nbsp;&nbsp;&nbsp; $\\hat{b}_{k+1} = \\hat{b}_k + \\alpha \\nabla \\log P(y_i=1|x_i;\\hat{b}_k)$ \n",
    "\n",
    "In contrast to SGD for linear regression, we do not multiply the gradient by $-1$ since we are looking for the maximum, so that it would be technically more correct to call this method stochastic gradient *ascent*."
   ]
  },
  {
   "cell_type": "markdown",
   "metadata": {
    "deletable": true,
    "editable": true
   },
   "source": [
    "## Homework\n",
    "\n",
    "Names: (put your names here)\n",
    "\n",
    "### Exercise 1\n",
    "Use the *SGDClassifier* provided by scikit-learn. Set *loss='log'*, *learning_rate='constant'*, *alpha=0.0*, *random_state=191*. Set *n_iter=10*, so that the SGDClassifier will sweep the sample 10 times. The stepsize is defined by the parameter *eta0*. Use 5-fold cross validation to search for a good eta0. "
   ]
  },
  {
   "cell_type": "code",
   "execution_count": null,
   "metadata": {
    "collapsed": true,
    "deletable": true,
    "editable": true
   },
   "outputs": [],
   "source": []
  },
  {
   "cell_type": "markdown",
   "metadata": {
    "deletable": true,
    "editable": true
   },
   "source": [
    "### Exercise 2\n",
    "Implement a variant of logistic regression using stochastic gradient ascent with AdaGrad stepsizes. Make sure that the sample size is 10 times the training set size, so that your classifier sees as many data points as the SGDClassifier."
   ]
  },
  {
   "cell_type": "code",
   "execution_count": null,
   "metadata": {
    "collapsed": true,
    "deletable": true,
    "editable": true
   },
   "outputs": [],
   "source": []
  },
  {
   "cell_type": "markdown",
   "metadata": {
    "deletable": true,
    "editable": true
   },
   "source": [
    "### Exercise 3\n",
    "Use 5-fold cross validation to search for the optimal *n_neighbors* of the *KNeighborsClassifier*."
   ]
  },
  {
   "cell_type": "code",
   "execution_count": null,
   "metadata": {
    "collapsed": true,
    "deletable": true,
    "editable": true
   },
   "outputs": [],
   "source": []
  }
 ],
 "metadata": {
  "kernelspec": {
   "display_name": "Python 3",
   "language": "python",
   "name": "python3"
  },
  "language_info": {
   "codemirror_mode": {
    "name": "ipython",
    "version": 3
   },
   "file_extension": ".py",
   "mimetype": "text/x-python",
   "name": "python",
   "nbconvert_exporter": "python",
   "pygments_lexer": "ipython3",
   "version": "3.4.3"
  }
 },
 "nbformat": 4,
 "nbformat_minor": 0
}
