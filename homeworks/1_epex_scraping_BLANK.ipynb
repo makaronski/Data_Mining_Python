{
 "cells": [
  {
   "cell_type": "markdown",
   "metadata": {},
   "source": [
    "# Session 1\n",
    "## Explorative Analysis of EPEXPOT Prices\n",
    "\n",
    "The first step in the data mining process is to develop an understanding of the business as well as the data that is needed to support it (see CRISP-DM). The next step in the process is data preparation, wich requires is to first akquire the data. Nowadays plenty of data is available on the web, either through APIs (Twitter, Goolgle, Quandl, etc.) or on the web pages themselves. If data is somehow embedded on a website, we need to go through a process called scraping, in order to separate the required data from the rest of the content. \n",
    "\n",
    "### Scraping EPEXSPOT Prices\n",
    "\n",
    "Let us assume that we need hourly electricity prices from the EPEXSPOT market for our business case. EPEXSPOT sells this data, but it must also provide the data on its website, for example, data for the [current week](https://www.epexspot.com/en/market-data/dayaheadauction/auction-table). \n",
    "\n",
    "#### BeautifulSoup\n",
    "\n",
    "To akquire the content and weed out the needed prices, we are going to use a Python library called [BeautifulSoup](https://www.crummy.com/software/BeautifulSoup/bs4/doc/)."
   ]
  },
  {
   "cell_type": "code",
   "execution_count": 1,
   "metadata": {
    "collapsed": true
   },
   "outputs": [],
   "source": [
    "#!pip install bs4 requests lxml"
   ]
  },
  {
   "cell_type": "code",
   "execution_count": 2,
   "metadata": {
    "collapsed": true
   },
   "outputs": [],
   "source": [
    "from bs4 import BeautifulSoup\n",
    "import urllib.request"
   ]
  },
  {
   "cell_type": "markdown",
   "metadata": {},
   "source": [
    "If we provide the day of the week in the ULR, we get one week of hourly prices, with the given date as the last day of the week. We can use this in a later step to build a fully automated mining bot. By providing BeautifulSoup with the content of the url, it can import and store the content in a proprietary format."
   ]
  },
  {
   "cell_type": "code",
   "execution_count": 3,
   "metadata": {
    "collapsed": true
   },
   "outputs": [],
   "source": [
    "date = '2017-10-11'\n",
    "url = urllib.request.urlopen('https://www.epexspot.com/en/market-data/dayaheadauction/auction-table/%s/de'%date)\n",
    "url = url.read()\n",
    "soup = BeautifulSoup(url,\"lxml\")"
   ]
  },
  {
   "cell_type": "markdown",
   "metadata": {},
   "source": [
    "All price data is available in a table with a *table* tag and has *list hours responsive* as its class name. We can therefore tell BeautifulSoup to extract content that meets this specification from the website and store it for us. BeautifulSoup stores all content that meets this requirement as a *ResultSet* and the individual elements in the set as *Tag*."
   ]
  },
  {
   "cell_type": "code",
   "execution_count": 4,
   "metadata": {},
   "outputs": [
    {
     "name": "stdout",
     "output_type": "stream",
     "text": [
      "<class 'bs4.element.ResultSet'> <class 'bs4.element.Tag'>\n"
     ]
    }
   ],
   "source": [
    "table = soup.find_all('table', class_='list hours responsive')\n",
    "print(type(table), type(table[1]))"
   ]
  },
  {
   "cell_type": "markdown",
   "metadata": {},
   "source": [
    "The result set contains three tables, each holding one week of hourly prices for different markets. The Autrian-German prices are in table 1. The string representation of the Tag that holds table 1 returns its HTML code. Let us take a look at the first 1000 characters and check if the prices shows in the *td* tags match the prices from the website."
   ]
  },
  {
   "cell_type": "code",
   "execution_count": 5,
   "metadata": {},
   "outputs": [
    {
     "data": {
      "text/plain": [
       "'<table border=\"0\" cellpadding=\"0\" cellspacing=\"0\" class=\"list hours responsive\" width=\"100%\">\\n<tbody>\\n<tr>\\n<th class=\"title\"></th>\\n<th class=\"units\"></th>\\n<th>Thu, 05/10</th>\\n<th>Fri, 06/10</th>\\n<th>Sat, 07/10</th>\\n<th>Sun, 08/10</th>\\n<th>Mon, 09/10</th>\\n<th>Tue, 10/10</th>\\n<th>Wed, 11/10</th>\\n</tr>\\n<tr class=\"no-border\">\\n<td class=\"title\">\\n                                                                    00 - 01\\n                                                            </td>\\n<td>€/MWh</td>\\n<td>4.09</td>\\n<td>0.95</td>\\n<td>13.85</td>\\n<td>-0.96</td>\\n<td>32.06</td>\\n<td>30.22</td>\\n<td>22.04</td>\\n</tr>\\n<tr>\\n<td>\\xa0</td>\\n<td>MWh</td>\\n<td>28,873.0</td>\\n<td>30,288.3</td>\\n<td>28,835.8</td>\\n<td>28,973.3</td>\\n<td>21,442.4</td>\\n<td>20,476.2</td>\\n<td>25,160.1</td>\\n</tr>\\n<tr class=\"no-border\">\\n<td class=\"title\">\\n                                                                    01 - 02\\n                                                            </td>\\n<td>€/MWh</td>\\n<td>2.09</td>\\n<td>9.88</td>\\n<td'"
      ]
     },
     "execution_count": 5,
     "metadata": {},
     "output_type": "execute_result"
    }
   ],
   "source": [
    "str(table[1])[:1000]"
   ]
  },
  {
   "cell_type": "markdown",
   "metadata": {},
   "source": [
    "#### Pandas\n",
    "To be able to analyze the price data, we must convert the data from html format into some data structure that does not treat the prices as strings but as floating point numbers, which will then allow us to perform numerical analyses. A popular library for data analysis in Python is [Pandas](http://pandas.pydata.org). "
   ]
  },
  {
   "cell_type": "code",
   "execution_count": 6,
   "metadata": {
    "collapsed": true
   },
   "outputs": [],
   "source": [
    "import pandas as pd\n",
    "%matplotlib inline"
   ]
  },
  {
   "cell_type": "markdown",
   "metadata": {},
   "source": [
    "Since Pandas understands html content, we are going to use the builder function *read_html()* which returns a Pandas *DataFrame*. The DataFrame is Pandas' most popular and powerful data structure, and we will revisit this class throughout this course."
   ]
  },
  {
   "cell_type": "code",
   "execution_count": 7,
   "metadata": {},
   "outputs": [
    {
     "data": {
      "text/html": [
       "<div>\n",
       "<style>\n",
       "    .dataframe thead tr:only-child th {\n",
       "        text-align: right;\n",
       "    }\n",
       "\n",
       "    .dataframe thead th {\n",
       "        text-align: left;\n",
       "    }\n",
       "\n",
       "    .dataframe tbody tr th {\n",
       "        vertical-align: top;\n",
       "    }\n",
       "</style>\n",
       "<table border=\"1\" class=\"dataframe\">\n",
       "  <thead>\n",
       "    <tr style=\"text-align: right;\">\n",
       "      <th></th>\n",
       "      <th>Unnamed: 0</th>\n",
       "      <th>Unnamed: 1</th>\n",
       "      <th>Thu, 05/10</th>\n",
       "      <th>Fri, 06/10</th>\n",
       "      <th>Sat, 07/10</th>\n",
       "      <th>Sun, 08/10</th>\n",
       "      <th>Mon, 09/10</th>\n",
       "      <th>Tue, 10/10</th>\n",
       "      <th>Wed, 11/10</th>\n",
       "    </tr>\n",
       "  </thead>\n",
       "  <tbody>\n",
       "    <tr>\n",
       "      <th>0</th>\n",
       "      <td>00 - 01</td>\n",
       "      <td>€/MWh</td>\n",
       "      <td>4.09</td>\n",
       "      <td>0.95</td>\n",
       "      <td>13.85</td>\n",
       "      <td>-0.96</td>\n",
       "      <td>32.06</td>\n",
       "      <td>30.22</td>\n",
       "      <td>22.04</td>\n",
       "    </tr>\n",
       "    <tr>\n",
       "      <th>1</th>\n",
       "      <td>NaN</td>\n",
       "      <td>MWh</td>\n",
       "      <td>28873.00</td>\n",
       "      <td>30288.30</td>\n",
       "      <td>28835.80</td>\n",
       "      <td>28973.30</td>\n",
       "      <td>21442.40</td>\n",
       "      <td>20476.20</td>\n",
       "      <td>25160.10</td>\n",
       "    </tr>\n",
       "    <tr>\n",
       "      <th>2</th>\n",
       "      <td>01 - 02</td>\n",
       "      <td>€/MWh</td>\n",
       "      <td>2.09</td>\n",
       "      <td>9.88</td>\n",
       "      <td>11.85</td>\n",
       "      <td>-2.37</td>\n",
       "      <td>30.64</td>\n",
       "      <td>29.96</td>\n",
       "      <td>21.31</td>\n",
       "    </tr>\n",
       "    <tr>\n",
       "      <th>3</th>\n",
       "      <td>NaN</td>\n",
       "      <td>MWh</td>\n",
       "      <td>29697.50</td>\n",
       "      <td>30277.30</td>\n",
       "      <td>28974.90</td>\n",
       "      <td>29442.70</td>\n",
       "      <td>20874.10</td>\n",
       "      <td>21524.30</td>\n",
       "      <td>24977.10</td>\n",
       "    </tr>\n",
       "    <tr>\n",
       "      <th>4</th>\n",
       "      <td>02 - 03</td>\n",
       "      <td>€/MWh</td>\n",
       "      <td>1.80</td>\n",
       "      <td>3.23</td>\n",
       "      <td>10.72</td>\n",
       "      <td>-0.03</td>\n",
       "      <td>30.02</td>\n",
       "      <td>30.19</td>\n",
       "      <td>22.79</td>\n",
       "    </tr>\n",
       "  </tbody>\n",
       "</table>\n",
       "</div>"
      ],
      "text/plain": [
       "  Unnamed: 0 Unnamed: 1  Thu, 05/10  Fri, 06/10  Sat, 07/10  Sun, 08/10  \\\n",
       "0    00 - 01      €/MWh        4.09        0.95       13.85       -0.96   \n",
       "1        NaN        MWh    28873.00    30288.30    28835.80    28973.30   \n",
       "2    01 - 02      €/MWh        2.09        9.88       11.85       -2.37   \n",
       "3        NaN        MWh    29697.50    30277.30    28974.90    29442.70   \n",
       "4    02 - 03      €/MWh        1.80        3.23       10.72       -0.03   \n",
       "\n",
       "   Mon, 09/10  Tue, 10/10  Wed, 11/10  \n",
       "0       32.06       30.22       22.04  \n",
       "1    21442.40    20476.20    25160.10  \n",
       "2       30.64       29.96       21.31  \n",
       "3    20874.10    21524.30    24977.10  \n",
       "4       30.02       30.19       22.79  "
      ]
     },
     "execution_count": 7,
     "metadata": {},
     "output_type": "execute_result"
    }
   ],
   "source": [
    "df = pd.read_html(str(table[1]), header=0, encoding='utf8')[0]\n",
    "df.head()"
   ]
  },
  {
   "cell_type": "markdown",
   "metadata": {},
   "source": [
    "### Data Preparation\n",
    "As soon as our data is available as a Pandas *DataFrame*, we can begin with the next step in our data mining process  clearning, transforming, merging and reshaping the data.\n",
    "\n",
    "The table currently holds prices and volumes for each hour in rows and for each week in columns. Since we do not need the row labels for the hours and the volumns, we are going to drop these columns."
   ]
  },
  {
   "cell_type": "code",
   "execution_count": 8,
   "metadata": {},
   "outputs": [
    {
     "data": {
      "text/html": [
       "<div>\n",
       "<style>\n",
       "    .dataframe thead tr:only-child th {\n",
       "        text-align: right;\n",
       "    }\n",
       "\n",
       "    .dataframe thead th {\n",
       "        text-align: left;\n",
       "    }\n",
       "\n",
       "    .dataframe tbody tr th {\n",
       "        vertical-align: top;\n",
       "    }\n",
       "</style>\n",
       "<table border=\"1\" class=\"dataframe\">\n",
       "  <thead>\n",
       "    <tr style=\"text-align: right;\">\n",
       "      <th></th>\n",
       "      <th>Thu, 05/10</th>\n",
       "      <th>Fri, 06/10</th>\n",
       "      <th>Sat, 07/10</th>\n",
       "      <th>Sun, 08/10</th>\n",
       "      <th>Mon, 09/10</th>\n",
       "      <th>Tue, 10/10</th>\n",
       "      <th>Wed, 11/10</th>\n",
       "    </tr>\n",
       "  </thead>\n",
       "  <tbody>\n",
       "    <tr>\n",
       "      <th>0</th>\n",
       "      <td>4.09</td>\n",
       "      <td>0.95</td>\n",
       "      <td>13.85</td>\n",
       "      <td>-0.96</td>\n",
       "      <td>32.06</td>\n",
       "      <td>30.22</td>\n",
       "      <td>22.04</td>\n",
       "    </tr>\n",
       "    <tr>\n",
       "      <th>1</th>\n",
       "      <td>28873.00</td>\n",
       "      <td>30288.30</td>\n",
       "      <td>28835.80</td>\n",
       "      <td>28973.30</td>\n",
       "      <td>21442.40</td>\n",
       "      <td>20476.20</td>\n",
       "      <td>25160.10</td>\n",
       "    </tr>\n",
       "    <tr>\n",
       "      <th>2</th>\n",
       "      <td>2.09</td>\n",
       "      <td>9.88</td>\n",
       "      <td>11.85</td>\n",
       "      <td>-2.37</td>\n",
       "      <td>30.64</td>\n",
       "      <td>29.96</td>\n",
       "      <td>21.31</td>\n",
       "    </tr>\n",
       "    <tr>\n",
       "      <th>3</th>\n",
       "      <td>29697.50</td>\n",
       "      <td>30277.30</td>\n",
       "      <td>28974.90</td>\n",
       "      <td>29442.70</td>\n",
       "      <td>20874.10</td>\n",
       "      <td>21524.30</td>\n",
       "      <td>24977.10</td>\n",
       "    </tr>\n",
       "    <tr>\n",
       "      <th>4</th>\n",
       "      <td>1.80</td>\n",
       "      <td>3.23</td>\n",
       "      <td>10.72</td>\n",
       "      <td>-0.03</td>\n",
       "      <td>30.02</td>\n",
       "      <td>30.19</td>\n",
       "      <td>22.79</td>\n",
       "    </tr>\n",
       "  </tbody>\n",
       "</table>\n",
       "</div>"
      ],
      "text/plain": [
       "   Thu, 05/10  Fri, 06/10  Sat, 07/10  Sun, 08/10  Mon, 09/10  Tue, 10/10  \\\n",
       "0        4.09        0.95       13.85       -0.96       32.06       30.22   \n",
       "1    28873.00    30288.30    28835.80    28973.30    21442.40    20476.20   \n",
       "2        2.09        9.88       11.85       -2.37       30.64       29.96   \n",
       "3    29697.50    30277.30    28974.90    29442.70    20874.10    21524.30   \n",
       "4        1.80        3.23       10.72       -0.03       30.02       30.19   \n",
       "\n",
       "   Wed, 11/10  \n",
       "0       22.04  \n",
       "1    25160.10  \n",
       "2       21.31  \n",
       "3    24977.10  \n",
       "4       22.79  "
      ]
     },
     "execution_count": 8,
     "metadata": {},
     "output_type": "execute_result"
    }
   ],
   "source": [
    "df = df.drop(['Unnamed: 0','Unnamed: 1'],axis=1)\n",
    "df.head()"
   ]
  },
  {
   "cell_type": "markdown",
   "metadata": {},
   "source": [
    "Afterwards, we must separate the prices from the volumes. This is fairly easy, since every row with an even number holds prices and every row with an odd number the volumes. All iterable objects in Python, like lists, Numpy arrays, or Pandas DataFrames understand some powerful but sytactically easy-to-use indexing statements. For example, to get all even rows, we simple need to call:"
   ]
  },
  {
   "cell_type": "code",
   "execution_count": 9,
   "metadata": {},
   "outputs": [
    {
     "data": {
      "text/html": [
       "<div>\n",
       "<style>\n",
       "    .dataframe thead tr:only-child th {\n",
       "        text-align: right;\n",
       "    }\n",
       "\n",
       "    .dataframe thead th {\n",
       "        text-align: left;\n",
       "    }\n",
       "\n",
       "    .dataframe tbody tr th {\n",
       "        vertical-align: top;\n",
       "    }\n",
       "</style>\n",
       "<table border=\"1\" class=\"dataframe\">\n",
       "  <thead>\n",
       "    <tr style=\"text-align: right;\">\n",
       "      <th></th>\n",
       "      <th>Thu, 05/10</th>\n",
       "      <th>Fri, 06/10</th>\n",
       "      <th>Sat, 07/10</th>\n",
       "      <th>Sun, 08/10</th>\n",
       "      <th>Mon, 09/10</th>\n",
       "      <th>Tue, 10/10</th>\n",
       "      <th>Wed, 11/10</th>\n",
       "    </tr>\n",
       "  </thead>\n",
       "  <tbody>\n",
       "    <tr>\n",
       "      <th>0</th>\n",
       "      <td>4.09</td>\n",
       "      <td>0.95</td>\n",
       "      <td>13.85</td>\n",
       "      <td>-0.96</td>\n",
       "      <td>32.06</td>\n",
       "      <td>30.22</td>\n",
       "      <td>22.04</td>\n",
       "    </tr>\n",
       "    <tr>\n",
       "      <th>2</th>\n",
       "      <td>2.09</td>\n",
       "      <td>9.88</td>\n",
       "      <td>11.85</td>\n",
       "      <td>-2.37</td>\n",
       "      <td>30.64</td>\n",
       "      <td>29.96</td>\n",
       "      <td>21.31</td>\n",
       "    </tr>\n",
       "    <tr>\n",
       "      <th>4</th>\n",
       "      <td>1.80</td>\n",
       "      <td>3.23</td>\n",
       "      <td>10.72</td>\n",
       "      <td>-0.03</td>\n",
       "      <td>30.02</td>\n",
       "      <td>30.19</td>\n",
       "      <td>22.79</td>\n",
       "    </tr>\n",
       "    <tr>\n",
       "      <th>6</th>\n",
       "      <td>8.91</td>\n",
       "      <td>0.43</td>\n",
       "      <td>11.04</td>\n",
       "      <td>-0.96</td>\n",
       "      <td>30.09</td>\n",
       "      <td>30.00</td>\n",
       "      <td>23.09</td>\n",
       "    </tr>\n",
       "    <tr>\n",
       "      <th>8</th>\n",
       "      <td>12.46</td>\n",
       "      <td>4.46</td>\n",
       "      <td>9.00</td>\n",
       "      <td>-0.08</td>\n",
       "      <td>30.01</td>\n",
       "      <td>30.74</td>\n",
       "      <td>27.05</td>\n",
       "    </tr>\n",
       "  </tbody>\n",
       "</table>\n",
       "</div>"
      ],
      "text/plain": [
       "   Thu, 05/10  Fri, 06/10  Sat, 07/10  Sun, 08/10  Mon, 09/10  Tue, 10/10  \\\n",
       "0        4.09        0.95       13.85       -0.96       32.06       30.22   \n",
       "2        2.09        9.88       11.85       -2.37       30.64       29.96   \n",
       "4        1.80        3.23       10.72       -0.03       30.02       30.19   \n",
       "6        8.91        0.43       11.04       -0.96       30.09       30.00   \n",
       "8       12.46        4.46        9.00       -0.08       30.01       30.74   \n",
       "\n",
       "   Wed, 11/10  \n",
       "0       22.04  \n",
       "2       21.31  \n",
       "4       22.79  \n",
       "6       23.09  \n",
       "8       27.05  "
      ]
     },
     "execution_count": 9,
     "metadata": {},
     "output_type": "execute_result"
    }
   ],
   "source": [
    "df[::2].head()"
   ]
  },
  {
   "cell_type": "markdown",
   "metadata": {},
   "source": [
    "The iterator loops over all rows, but increments the index in increments of two, so that we only get to see rows with an even number. The function *head()* finally shows us the first five rows of the resulting copy of the DataFrame.\n",
    "\n",
    "The next step is to flatten the resulting table, so that all columns of the table are stacked on top of each other, and all 7 x 24 prices are returned as a single long array. Before we can stack the columns, we must transpose the table, since the function *stack()* works row-wise and not column-wise. The function *tranpose()* simply flips the indices internally, which corresponds to the mathematical concept of transposing a matrix."
   ]
  },
  {
   "cell_type": "code",
   "execution_count": 10,
   "metadata": {
    "collapsed": true
   },
   "outputs": [],
   "source": [
    "prices = df[::2].transpose().stack()"
   ]
  },
  {
   "cell_type": "markdown",
   "metadata": {},
   "source": [
    "Although the dates are provided in the columns, they are not in a good format to be parsed as dates. Since we know the last day of the week, however, we can create our own time index, by using the Pandas builder function *date_range()*. We then replace the existing index with the new datetime index."
   ]
  },
  {
   "cell_type": "code",
   "execution_count": 11,
   "metadata": {
    "collapsed": true
   },
   "outputs": [],
   "source": [
    "index = pd.date_range(end='%s-23:00'%date, periods=7*24, freq='h')\n",
    "prices = df[::2].transpose().stack()\n",
    "prices.index = index"
   ]
  },
  {
   "cell_type": "markdown",
   "metadata": {},
   "source": [
    "Note that the last element of the date time index is defined to as 23:00. If we do not specify the last hour, the index would have started at 1:00 and not at 0:00. Since prices are valid for a whole hour, in this case going from 0:00 to 1:00, it is really a matter of definition, whether we set the axis tick at 0:00 or 1:00, but it is more natural to pick the beginning of an hour as the tick.\n",
    "\n",
    "To finally plot the result we can now use the function *plot()* which will return a line chart with the time series of hourly prices. We can see that, by providing a datetime index, the x-axis automatically gets properly formated with the correct dates."
   ]
  },
  {
   "cell_type": "code",
   "execution_count": 12,
   "metadata": {},
   "outputs": [
    {
     "data": {
      "text/plain": [
       "<matplotlib.axes._subplots.AxesSubplot at 0x10bddb2b0>"
      ]
     },
     "execution_count": 12,
     "metadata": {},
     "output_type": "execute_result"
    },
    {
     "data": {
      "image/png": "[encoded data removed]",
      "text/plain": [
       "<matplotlib.figure.Figure at 0x10bd22710>"
      ]
     },
     "metadata": {},
     "output_type": "display_data"
    }
   ],
   "source": [
    "prices.plot()"
   ]
  },
  {
   "cell_type": "markdown",
   "metadata": {},
   "source": [
    "Now we can do the same with the volumes. This time we need all odd rows, so the index has to start at 1. The datetime index for volumes and prices is the same, so that we can replace the volumes index with our previously created datetime index."
   ]
  },
  {
   "cell_type": "code",
   "execution_count": 13,
   "metadata": {},
   "outputs": [
    {
     "data": {
      "text/plain": [
       "<matplotlib.axes._subplots.AxesSubplot at 0x10bee4908>"
      ]
     },
     "execution_count": 13,
     "metadata": {},
     "output_type": "execute_result"
    },
    {
     "data": {
      "image/png": "[encoded data removed]",
      "text/plain": [
       "<matplotlib.figure.Figure at 0x10bdef5f8>"
      ]
     },
     "metadata": {},
     "output_type": "display_data"
    }
   ],
   "source": [
    "volumes = df[1::2].transpose().stack()\n",
    "volumes.index = index\n",
    "volumes.plot()"
   ]
  },
  {
   "cell_type": "markdown",
   "metadata": {},
   "source": [
    "The above data is not stored as a DataFrame but as a *Series* which, in contrast to DataFrame, is one-dimensional. Since Series cannot be extended, we must first create a new empty DataFrame with our datetime index as its index. Then we append prices and volumes to the newsly created DataFrame and call *head()* to look at the first firve rows."
   ]
  },
  {
   "cell_type": "code",
   "execution_count": 14,
   "metadata": {},
   "outputs": [
    {
     "data": {
      "text/html": [
       "<div>\n",
       "<style>\n",
       "    .dataframe thead tr:only-child th {\n",
       "        text-align: right;\n",
       "    }\n",
       "\n",
       "    .dataframe thead th {\n",
       "        text-align: left;\n",
       "    }\n",
       "\n",
       "    .dataframe tbody tr th {\n",
       "        vertical-align: top;\n",
       "    }\n",
       "</style>\n",
       "<table border=\"1\" class=\"dataframe\">\n",
       "  <thead>\n",
       "    <tr style=\"text-align: right;\">\n",
       "      <th></th>\n",
       "      <th>prices</th>\n",
       "      <th>volumes</th>\n",
       "    </tr>\n",
       "  </thead>\n",
       "  <tbody>\n",
       "    <tr>\n",
       "      <th>2017-10-05 00:00:00</th>\n",
       "      <td>4.09</td>\n",
       "      <td>28873.0</td>\n",
       "    </tr>\n",
       "    <tr>\n",
       "      <th>2017-10-05 01:00:00</th>\n",
       "      <td>2.09</td>\n",
       "      <td>29697.5</td>\n",
       "    </tr>\n",
       "    <tr>\n",
       "      <th>2017-10-05 02:00:00</th>\n",
       "      <td>1.80</td>\n",
       "      <td>30656.5</td>\n",
       "    </tr>\n",
       "    <tr>\n",
       "      <th>2017-10-05 03:00:00</th>\n",
       "      <td>8.91</td>\n",
       "      <td>30551.9</td>\n",
       "    </tr>\n",
       "    <tr>\n",
       "      <th>2017-10-05 04:00:00</th>\n",
       "      <td>12.46</td>\n",
       "      <td>30941.4</td>\n",
       "    </tr>\n",
       "  </tbody>\n",
       "</table>\n",
       "</div>"
      ],
      "text/plain": [
       "                     prices  volumes\n",
       "2017-10-05 00:00:00    4.09  28873.0\n",
       "2017-10-05 01:00:00    2.09  29697.5\n",
       "2017-10-05 02:00:00    1.80  30656.5\n",
       "2017-10-05 03:00:00    8.91  30551.9\n",
       "2017-10-05 04:00:00   12.46  30941.4"
      ]
     },
     "execution_count": 14,
     "metadata": {},
     "output_type": "execute_result"
    }
   ],
   "source": [
    "df = pd.concat([prices, volumes], axis=1)\n",
    "df.columns = [\"prices\", \"volumes\"]\n",
    "df.head()"
   ]
  },
  {
   "cell_type": "markdown",
   "metadata": {},
   "source": [
    "Now that our data is in the right format and shape, we can begin with our exploratory analyses."
   ]
  },
  {
   "cell_type": "markdown",
   "metadata": {},
   "source": [
    "## Homework\n",
    "\n",
    "Names: (put your names here)"
   ]
  },
  {
   "cell_type": "markdown",
   "metadata": {},
   "source": [
    "### Exercise 1\n",
    "Collect price and volume data from the entire year of 2017. Use pd.concat() to merge all dataframes together into a single one. A few hints:\n",
    "- You need to loop over a number of dates which are one week apart. To create such a list use pandas *date_range* function and create dates in weekly frequency.\n",
    "- Iteratively extend your DataFrame with the new data using Pandas concat function.\n",
    "- If you run into errors when collecting an entire year and are unable to resolve these errors on your own, at least try to collect as many weeks as possible."
   ]
  },
  {
   "cell_type": "code",
   "execution_count": null,
   "metadata": {
    "collapsed": true
   },
   "outputs": [],
   "source": []
  },
  {
   "cell_type": "markdown",
   "metadata": {},
   "source": [
    "### Exercise 2\n",
    "Create a sample of peak prices (9:00 to 20:00) and base prices (24-hour mean) and summarize the data with a simple descriptive statistics containing min, max, mean, std deviation, as well as quantiles in steps of 0.1. Then create a histogram of the distribution of both figures in one plot."
   ]
  },
  {
   "cell_type": "code",
   "execution_count": null,
   "metadata": {
    "collapsed": true
   },
   "outputs": [],
   "source": []
  },
  {
   "cell_type": "markdown",
   "metadata": {},
   "source": [
    "### Exercise 3\n",
    "Group the data by hour and plot the price distribution in one graph by horizontally stacking a number of box plots."
   ]
  },
  {
   "cell_type": "code",
   "execution_count": null,
   "metadata": {
    "collapsed": true
   },
   "outputs": [],
   "source": []
  },
  {
   "cell_type": "markdown",
   "metadata": {},
   "source": [
    "### Exercise 4\n",
    "Measure and plot the relationship between price and volume. What would be two numeric measures to describe the relationship? Briefly explain their differences. Hint:\n",
    "- We discussed this in class when I drew on the flipchart.\n",
    "- Do a little research on your own and explain the difference in your own words."
   ]
  },
  {
   "cell_type": "code",
   "execution_count": null,
   "metadata": {
    "collapsed": true
   },
   "outputs": [],
   "source": []
  },
  {
   "cell_type": "markdown",
   "metadata": {},
   "source": [
    "### Exercise 5\n",
    "Create a time series of daily averages and plot the result."
   ]
  },
  {
   "cell_type": "code",
   "execution_count": null,
   "metadata": {
    "collapsed": true
   },
   "outputs": [],
   "source": []
  },
  {
   "cell_type": "markdown",
   "metadata": {},
   "source": [
    "### What you have learned\n",
    "\n",
    "If you have gotton this far on your own, you have learned a great deal about getting things done in Python and Pandas. You now know a tool to collect data from the web, you have gotton a feel of Pandas indexing, aggregating and merging, and you have run some basic exploratory data analysis. Great job!"
   ]
  }
 ],
 "metadata": {
  "kernelspec": {
   "display_name": "Python 3",
   "language": "python",
   "name": "python3"
  },
  "language_info": {
   "codemirror_mode": {
    "name": "ipython",
    "version": 3
   },
   "file_extension": ".py",
   "mimetype": "text/x-python",
   "name": "python",
   "nbconvert_exporter": "python",
   "pygments_lexer": "ipython3",
   "version": "3.6.2"
  },
  "widgets": {
   "state": {},
   "version": "1.1.2"
  }
 },
 "nbformat": 4,
 "nbformat_minor": 1
}
