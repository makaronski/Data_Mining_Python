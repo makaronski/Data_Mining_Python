{
 "cells": [
  {
   "cell_type": "markdown",
   "metadata": {},
   "source": [
    "# Session 1\n",
    "## Explorative Analysis of EPEXPOT Prices\n",
    "\n",
    "The first step in the data mining process is to develop an understanding of the business as well as the data that is needed to support it (see CRISP-DM). The next step in the process is data preparation, wich requires is to first akquire the data. Nowadays plenty of data is available on the web, either through APIs (Twitter, Goolgle, Quandl, etc.) or on the web pages themselves. If data is somehow embedded on a website, we need to go through a process called scraping, in order to separate the required data from the rest of the content. \n",
    "\n",
    "### Scraping EPEXSPOT Prices\n",
    "\n",
    "Let us assume that we need hourly electricity prices from the EPEXSPOT market for our business case. EPEXSPOT sells this data, but it must also provide the data on its website, for example, data for the [current week](https://www.epexspot.com/en/market-data/dayaheadauction/auction-table). \n",
    "\n",
    "#### BeautifulSoup\n",
    "\n",
    "To akquire the content and weed out the needed prices, we are going to use a Python library called [BeautifulSoup](https://www.crummy.com/software/BeautifulSoup/bs4/doc/)."
   ]
  },
  {
   "cell_type": "code",
   "execution_count": 1,
   "metadata": {
    "collapsed": true
   },
   "outputs": [],
   "source": [
    "#!pip install bs4 requests lxml"
   ]
  },
  {
   "cell_type": "code",
   "execution_count": 2,
   "metadata": {
    "collapsed": true
   },
   "outputs": [],
   "source": [
    "from bs4 import BeautifulSoup\n",
    "import urllib.request"
   ]
  },
  {
   "cell_type": "markdown",
   "metadata": {},
   "source": [
    "If we provide the day of the week in the ULR, we get one week of hourly prices, with the given date as the last day of the week. We can use this in a later step to build a fully automated mining bot. By providing BeautifulSoup with the content of the url, it can import and store the content in a proprietary format."
   ]
  },
  {
   "cell_type": "code",
   "execution_count": 3,
   "metadata": {
    "collapsed": true
   },
   "outputs": [],
   "source": [
    "date = '2017-10-11'\n",
    "url = urllib.request.urlopen('https://www.epexspot.com/en/market-data/dayaheadauction/auction-table/%s/de'%date)\n",
    "url = url.read()\n",
    "soup = BeautifulSoup(url,\"lxml\")"
   ]
  },
  {
   "cell_type": "markdown",
   "metadata": {},
   "source": [
    "All price data is available in a table with a *table* tag and has *list hours responsive* as its class name. We can therefore tell BeautifulSoup to extract content that meets this specification from the website and store it for us. BeautifulSoup stores all content that meets this requirement as a *ResultSet* and the individual elements in the set as *Tag*."
   ]
  },
  {
   "cell_type": "code",
   "execution_count": 4,
   "metadata": {},
   "outputs": [
    {
     "name": "stdout",
     "output_type": "stream",
     "text": [
      "<class 'bs4.element.ResultSet'> <class 'bs4.element.Tag'>\n"
     ]
    }
   ],
   "source": [
    "table = soup.find_all('table', class_='list hours responsive')\n",
    "#finds an element with class 'list hours responsive' and names it 'table' and creates a ResultSet\n",
    "print(type(table), type(table[1]))\n",
    "#what we get is a ResultSet and the elements of that ResultSet are Tags"
   ]
  },
  {
   "cell_type": "code",
   "execution_count": 5,
   "metadata": {
    "collapsed": true
   },
   "outputs": [],
   "source": [
    "soup.find_all?"
   ]
  },
  {
   "cell_type": "markdown",
   "metadata": {},
   "source": [
    "#\n",
    "Extracts a list of Tag objects that match the given\n",
    "criteria.  You can specify the name of the Tag and any\n",
    "attributes you want the Tag to have.\n",
    "The value of a key-value pair in the 'attrs' map can be a\n",
    "string, a list of strings, a regular expression object, or a\n",
    "callable that takes a string and returns whether or not the\n",
    "string matches for some custom definition of 'matches'. The\n",
    "same is true of the tag name.\n",
    "#"
   ]
  },
  {
   "cell_type": "markdown",
   "metadata": {},
   "source": [
    "The result set contains three tables, each holding one week of hourly prices for different markets. The Autrian-German prices are in table 1. The string representation of the Tag that holds table 1 returns its HTML code. Let us take a look at the first 1000 characters and check if the prices shows in the *td* tags match the prices from the website."
   ]
  },
  {
   "cell_type": "code",
   "execution_count": 6,
   "metadata": {},
   "outputs": [
    {
     "data": {
      "text/plain": [
       "'<table border=\"0\" cellpadding=\"0\" cellspacing=\"0\" class=\"list hours responsive\" width=\"100%\">\\n<tbody>\\n<tr>\\n<th class=\"title\"></th>\\n<th class=\"units\"></th>\\n<th>Thu, 05/10</th>\\n<th>Fri, 06/10</th>\\n<th>Sat, 07/10</th>\\n<th>Sun, 08/10</th>\\n<th>Mon, 09/10</th>\\n<th>Tue, 10/10</th>\\n<th>Wed, 11/10</th>\\n</tr>\\n<tr class=\"no-border\">\\n<td class=\"title\">\\n                                                                    00 - 01\\n                                                            </td>\\n<td>€/MWh</td>\\n<td>4.09</td>\\n<td>0.95</td>\\n<td>13.85</td>\\n<td>-0.96</td>\\n<td>32.06</td>\\n<td>30.22</td>\\n<td>22.04</td>\\n</tr>\\n<tr>\\n<td>\\xa0</td>\\n<td>MWh</td>\\n<td>28,873.0</td>\\n<td>30,288.3</td>\\n<td>28,835.8</td>\\n<td>28,973.3</td>\\n<td>21,442.4</td>\\n<td>20,476.2</td>\\n<td>25,160.1</td>\\n</tr>\\n<tr class=\"no-border\">\\n<td class=\"title\">\\n                                                                    01 - 02\\n                                                            </td>\\n<td>€/MWh</td>\\n<td>2.09</td>\\n<td>9.88</td>\\n<td>11.85</td>\\n<td>-2.37</td>\\n<td>30.64</td>\\n<td>29.96</td>\\n<td>21.31</td>\\n</tr>\\n<tr>\\n<td>\\xa0</td>\\n<td>MWh</td>\\n<td>29,697.5</td>\\n<td>30,277.3</td>\\n<td>28,974.9</td>\\n<td>29,442.7</td>\\n<td>20,874.1</td>\\n<td>21,524.3</td>\\n<td>24,977.1</td>\\n</tr>\\n<tr class=\"no-border\">\\n<td class=\"title\">\\n                                                                    02 - 03\\n                                                            </td>\\n<td>€/MWh</td>\\n<td>1.80</td>\\n<td>3.23</td>\\n<td>10.72</td>\\n<td>-0.03</td>\\n<td>30.02</td>\\n<td>30.19</td>\\n<td>22.79</td>\\n</tr>\\n<tr>\\n<td>\\xa0</td>\\n<td>MWh</td>\\n<td>30,656.5</td>\\n<td>30,982.8</td>\\n<td>29,244.1</td>\\n<td>28,831.9</td>\\n<td>20,575.5</td>\\n<td>21,769.2</td>\\n<td>25,376.0</td>\\n</tr>\\n<tr class=\"no-border\">\\n<td class=\"title\">\\n                                                                    03 - 04\\n                                                            </td>\\n<td>€/MWh</td>\\n<td>8.91</td>\\n<td>0.43</td>\\n<td>11.04</td>\\n<td>-0.96</td>\\n<td>30.09</td>\\n<td>30.00</td>\\n<td>23.09</td>\\n</tr>\\n<tr>\\n<td>\\xa0</td>\\n<td>MWh</td>\\n<td>30,551.9</td>\\n<td>30,407.6</td>\\n<td>29,614.7</td>\\n<td>28,057.7</td>\\n<td>20,942.6</td>\\n<td>21,791.3</td>\\n<td>24,913.9</td>\\n</tr>\\n<tr class=\"no-border\">\\n<td class=\"title\">\\n                                                                    04 - 05\\n                                                            </td>\\n<td>€/MWh</td>\\n<td>12.46</td>\\n<td>4.46</td>\\n<td>9.00</td>\\n<td>-0.08</td>\\n<td>30.01</td>\\n<td>30.74</td>\\n<td>27.05</td>\\n</tr>\\n<tr>\\n<td>\\xa0</td>\\n<td>MWh</td>\\n<td>30,941.4</td>\\n<td>29,513.4</td>\\n<td>29,557.8</td>\\n<td>27,104.6</td>\\n<td>20,849.5</td>\\n<td>22,619.5</td>\\n<td>25,130.8</td>\\n</tr>\\n<tr class=\"no-border\">\\n<td class=\"title\">\\n                                                                    05 - 06\\n                                                            </td>\\n<td>€/MWh</td>\\n<td>16.98</td>\\n<td>10.78</td>\\n<td>8.94</td>\\n<td>8.76</td>\\n<td>32.00</td>\\n<td>31.79</td>\\n<td>29.83</td>\\n</tr>\\n<tr>\\n<td>\\xa0</td>\\n<td>MWh</td>\\n<td>29,266.0</td>'"
      ]
     },
     "execution_count": 6,
     "metadata": {},
     "output_type": "execute_result"
    }
   ],
   "source": [
    "str(table[1])[:3000]"
   ]
  },
  {
   "cell_type": "markdown",
   "metadata": {},
   "source": [
    "#### Pandas\n",
    "To be able to analyze the price data, we must convert the data from html format into some data structure that does not treat the prices as strings but as floating point numbers, which will then allow us to perform numerical analyses. A popular library for data analysis in Python is [Pandas](http://pandas.pydata.org). "
   ]
  },
  {
   "cell_type": "code",
   "execution_count": 7,
   "metadata": {
    "collapsed": true
   },
   "outputs": [],
   "source": [
    "import pandas as pd\n",
    "%matplotlib inline"
   ]
  },
  {
   "cell_type": "markdown",
   "metadata": {},
   "source": [
    "Since Pandas understands html content, we are going to use the builder function *read_html()* which returns a Pandas *DataFrame*. The DataFrame is Pandas' most popular and powerful data structure, and we will revisit this class throughout this course."
   ]
  },
  {
   "cell_type": "code",
   "execution_count": 8,
   "metadata": {},
   "outputs": [
    {
     "data": {
      "text/html": [
       "<div>\n",
       "<table border=\"1\" class=\"dataframe\">\n",
       "  <thead>\n",
       "    <tr style=\"text-align: right;\">\n",
       "      <th></th>\n",
       "      <th>Unnamed: 0</th>\n",
       "      <th>Unnamed: 1</th>\n",
       "      <th>Thu, 05/10</th>\n",
       "      <th>Fri, 06/10</th>\n",
       "      <th>Sat, 07/10</th>\n",
       "      <th>Sun, 08/10</th>\n",
       "      <th>Mon, 09/10</th>\n",
       "      <th>Tue, 10/10</th>\n",
       "      <th>Wed, 11/10</th>\n",
       "    </tr>\n",
       "  </thead>\n",
       "  <tbody>\n",
       "    <tr>\n",
       "      <th>0</th>\n",
       "      <td>00 - 01</td>\n",
       "      <td>€/MWh</td>\n",
       "      <td>4.09</td>\n",
       "      <td>0.95</td>\n",
       "      <td>13.85</td>\n",
       "      <td>-0.96</td>\n",
       "      <td>32.06</td>\n",
       "      <td>30.22</td>\n",
       "      <td>22.04</td>\n",
       "    </tr>\n",
       "    <tr>\n",
       "      <th>1</th>\n",
       "      <td>NaN</td>\n",
       "      <td>MWh</td>\n",
       "      <td>28873.00</td>\n",
       "      <td>30288.30</td>\n",
       "      <td>28835.80</td>\n",
       "      <td>28973.30</td>\n",
       "      <td>21442.40</td>\n",
       "      <td>20476.20</td>\n",
       "      <td>25160.10</td>\n",
       "    </tr>\n",
       "    <tr>\n",
       "      <th>2</th>\n",
       "      <td>01 - 02</td>\n",
       "      <td>€/MWh</td>\n",
       "      <td>2.09</td>\n",
       "      <td>9.88</td>\n",
       "      <td>11.85</td>\n",
       "      <td>-2.37</td>\n",
       "      <td>30.64</td>\n",
       "      <td>29.96</td>\n",
       "      <td>21.31</td>\n",
       "    </tr>\n",
       "    <tr>\n",
       "      <th>3</th>\n",
       "      <td>NaN</td>\n",
       "      <td>MWh</td>\n",
       "      <td>29697.50</td>\n",
       "      <td>30277.30</td>\n",
       "      <td>28974.90</td>\n",
       "      <td>29442.70</td>\n",
       "      <td>20874.10</td>\n",
       "      <td>21524.30</td>\n",
       "      <td>24977.10</td>\n",
       "    </tr>\n",
       "    <tr>\n",
       "      <th>4</th>\n",
       "      <td>02 - 03</td>\n",
       "      <td>€/MWh</td>\n",
       "      <td>1.80</td>\n",
       "      <td>3.23</td>\n",
       "      <td>10.72</td>\n",
       "      <td>-0.03</td>\n",
       "      <td>30.02</td>\n",
       "      <td>30.19</td>\n",
       "      <td>22.79</td>\n",
       "    </tr>\n",
       "  </tbody>\n",
       "</table>\n",
       "</div>"
      ],
      "text/plain": [
       "  Unnamed: 0 Unnamed: 1  Thu, 05/10  Fri, 06/10  Sat, 07/10  Sun, 08/10  \\\n",
       "0    00 - 01      €/MWh        4.09        0.95       13.85       -0.96   \n",
       "1        NaN        MWh    28873.00    30288.30    28835.80    28973.30   \n",
       "2    01 - 02      €/MWh        2.09        9.88       11.85       -2.37   \n",
       "3        NaN        MWh    29697.50    30277.30    28974.90    29442.70   \n",
       "4    02 - 03      €/MWh        1.80        3.23       10.72       -0.03   \n",
       "\n",
       "   Mon, 09/10  Tue, 10/10  Wed, 11/10  \n",
       "0       32.06       30.22       22.04  \n",
       "1    21442.40    20476.20    25160.10  \n",
       "2       30.64       29.96       21.31  \n",
       "3    20874.10    21524.30    24977.10  \n",
       "4       30.02       30.19       22.79  "
      ]
     },
     "execution_count": 8,
     "metadata": {},
     "output_type": "execute_result"
    }
   ],
   "source": [
    "df = pd.read_html(str(table[1]), header=0, encoding='utf8')[0]\n",
    "df.head()"
   ]
  },
  {
   "cell_type": "code",
   "execution_count": 9,
   "metadata": {
    "collapsed": true
   },
   "outputs": [],
   "source": [
    "pd.read_html?\n",
    "\n",
    "#[0] because otherwise we cannot use head to print it out, and [1] shows out of range"
   ]
  },
  {
   "cell_type": "markdown",
   "metadata": {},
   "source": [
    "Read HTML tables into a ``list`` of ``DataFrame`` objects.\n",
    "\n",
    "Parameters:\n",
    "1. io : str or file-like\n",
    "   A URL, a file-like object, or a raw string containing HTML. Note that\n",
    "   lxml only accepts the http, ftp and file url protocols. If you have a\n",
    "   URL that starts with ``'https'`` you might try removing the ``'s'``.\n",
    "2. header : int or list-like or None, optional\n",
    "   The row (or list of rows for a :class:`~pandas.MultiIndex`) to use to\n",
    "   make the columns headers.\n",
    "3. encoding : str or None, optional\n",
    "   The encoding used to decode the web page. Defaults to ``None``.``None``\n",
    "   preserves the previous encoding behavior, which depends on the\n",
    "   underlying parser library (e.g., the parser library will try to use\n",
    "   the encoding provided by the document).\n",
    "   \n",
    "+MORE"
   ]
  },
  {
   "cell_type": "code",
   "execution_count": 10,
   "metadata": {
    "collapsed": true
   },
   "outputs": [],
   "source": [
    "df.head?"
   ]
  },
  {
   "cell_type": "markdown",
   "metadata": {},
   "source": [
    "df.head(n=5)\n",
    "\n",
    "Docstring: Returns first n rows"
   ]
  },
  {
   "cell_type": "markdown",
   "metadata": {},
   "source": [
    "### Data Preparation\n",
    "As soon as our data is available as a Pandas *DataFrame*, we can begin with the next step in our data mining process  clearning, transforming, merging and reshaping the data.\n",
    "\n",
    "The table currently holds prices and volumes for each hour in rows and for each week in columns. Since we do not need the row labels for the hours and the volumns, we are going to drop these columns."
   ]
  },
  {
   "cell_type": "code",
   "execution_count": 11,
   "metadata": {},
   "outputs": [
    {
     "data": {
      "text/html": [
       "<div>\n",
       "<table border=\"1\" class=\"dataframe\">\n",
       "  <thead>\n",
       "    <tr style=\"text-align: right;\">\n",
       "      <th></th>\n",
       "      <th>Thu, 05/10</th>\n",
       "      <th>Fri, 06/10</th>\n",
       "      <th>Sat, 07/10</th>\n",
       "      <th>Sun, 08/10</th>\n",
       "      <th>Mon, 09/10</th>\n",
       "      <th>Tue, 10/10</th>\n",
       "      <th>Wed, 11/10</th>\n",
       "    </tr>\n",
       "  </thead>\n",
       "  <tbody>\n",
       "    <tr>\n",
       "      <th>0</th>\n",
       "      <td>4.09</td>\n",
       "      <td>0.95</td>\n",
       "      <td>13.85</td>\n",
       "      <td>-0.96</td>\n",
       "      <td>32.06</td>\n",
       "      <td>30.22</td>\n",
       "      <td>22.04</td>\n",
       "    </tr>\n",
       "    <tr>\n",
       "      <th>1</th>\n",
       "      <td>28873.00</td>\n",
       "      <td>30288.30</td>\n",
       "      <td>28835.80</td>\n",
       "      <td>28973.30</td>\n",
       "      <td>21442.40</td>\n",
       "      <td>20476.20</td>\n",
       "      <td>25160.10</td>\n",
       "    </tr>\n",
       "    <tr>\n",
       "      <th>2</th>\n",
       "      <td>2.09</td>\n",
       "      <td>9.88</td>\n",
       "      <td>11.85</td>\n",
       "      <td>-2.37</td>\n",
       "      <td>30.64</td>\n",
       "      <td>29.96</td>\n",
       "      <td>21.31</td>\n",
       "    </tr>\n",
       "    <tr>\n",
       "      <th>3</th>\n",
       "      <td>29697.50</td>\n",
       "      <td>30277.30</td>\n",
       "      <td>28974.90</td>\n",
       "      <td>29442.70</td>\n",
       "      <td>20874.10</td>\n",
       "      <td>21524.30</td>\n",
       "      <td>24977.10</td>\n",
       "    </tr>\n",
       "    <tr>\n",
       "      <th>4</th>\n",
       "      <td>1.80</td>\n",
       "      <td>3.23</td>\n",
       "      <td>10.72</td>\n",
       "      <td>-0.03</td>\n",
       "      <td>30.02</td>\n",
       "      <td>30.19</td>\n",
       "      <td>22.79</td>\n",
       "    </tr>\n",
       "  </tbody>\n",
       "</table>\n",
       "</div>"
      ],
      "text/plain": [
       "   Thu, 05/10  Fri, 06/10  Sat, 07/10  Sun, 08/10  Mon, 09/10  Tue, 10/10  \\\n",
       "0        4.09        0.95       13.85       -0.96       32.06       30.22   \n",
       "1    28873.00    30288.30    28835.80    28973.30    21442.40    20476.20   \n",
       "2        2.09        9.88       11.85       -2.37       30.64       29.96   \n",
       "3    29697.50    30277.30    28974.90    29442.70    20874.10    21524.30   \n",
       "4        1.80        3.23       10.72       -0.03       30.02       30.19   \n",
       "\n",
       "   Wed, 11/10  \n",
       "0       22.04  \n",
       "1    25160.10  \n",
       "2       21.31  \n",
       "3    24977.10  \n",
       "4       22.79  "
      ]
     },
     "execution_count": 11,
     "metadata": {},
     "output_type": "execute_result"
    }
   ],
   "source": [
    "df = df.drop(['Unnamed: 0','Unnamed: 1'],axis=1)\n",
    "#axis 1 is for columns and axis 0 for rows\n",
    "df.head()"
   ]
  },
  {
   "cell_type": "markdown",
   "metadata": {},
   "source": [
    "Afterwards, we must separate the prices from the volumes. This is fairly easy, since every row with an even number holds prices and every row with an odd number the volumes. All iterable objects in Python, like lists, Numpy arrays, or Pandas DataFrames understand some powerful but sytactically easy-to-use indexing statements. For example, to get all even rows, we simple need to call:"
   ]
  },
  {
   "cell_type": "code",
   "execution_count": 12,
   "metadata": {},
   "outputs": [
    {
     "data": {
      "text/html": [
       "<div>\n",
       "<table border=\"1\" class=\"dataframe\">\n",
       "  <thead>\n",
       "    <tr style=\"text-align: right;\">\n",
       "      <th></th>\n",
       "      <th>Thu, 05/10</th>\n",
       "      <th>Fri, 06/10</th>\n",
       "      <th>Sat, 07/10</th>\n",
       "      <th>Sun, 08/10</th>\n",
       "      <th>Mon, 09/10</th>\n",
       "      <th>Tue, 10/10</th>\n",
       "      <th>Wed, 11/10</th>\n",
       "    </tr>\n",
       "  </thead>\n",
       "  <tbody>\n",
       "    <tr>\n",
       "      <th>0</th>\n",
       "      <td>4.09</td>\n",
       "      <td>0.95</td>\n",
       "      <td>13.85</td>\n",
       "      <td>-0.96</td>\n",
       "      <td>32.06</td>\n",
       "      <td>30.22</td>\n",
       "      <td>22.04</td>\n",
       "    </tr>\n",
       "    <tr>\n",
       "      <th>2</th>\n",
       "      <td>2.09</td>\n",
       "      <td>9.88</td>\n",
       "      <td>11.85</td>\n",
       "      <td>-2.37</td>\n",
       "      <td>30.64</td>\n",
       "      <td>29.96</td>\n",
       "      <td>21.31</td>\n",
       "    </tr>\n",
       "    <tr>\n",
       "      <th>4</th>\n",
       "      <td>1.80</td>\n",
       "      <td>3.23</td>\n",
       "      <td>10.72</td>\n",
       "      <td>-0.03</td>\n",
       "      <td>30.02</td>\n",
       "      <td>30.19</td>\n",
       "      <td>22.79</td>\n",
       "    </tr>\n",
       "    <tr>\n",
       "      <th>6</th>\n",
       "      <td>8.91</td>\n",
       "      <td>0.43</td>\n",
       "      <td>11.04</td>\n",
       "      <td>-0.96</td>\n",
       "      <td>30.09</td>\n",
       "      <td>30.00</td>\n",
       "      <td>23.09</td>\n",
       "    </tr>\n",
       "    <tr>\n",
       "      <th>8</th>\n",
       "      <td>12.46</td>\n",
       "      <td>4.46</td>\n",
       "      <td>9.00</td>\n",
       "      <td>-0.08</td>\n",
       "      <td>30.01</td>\n",
       "      <td>30.74</td>\n",
       "      <td>27.05</td>\n",
       "    </tr>\n",
       "  </tbody>\n",
       "</table>\n",
       "</div>"
      ],
      "text/plain": [
       "   Thu, 05/10  Fri, 06/10  Sat, 07/10  Sun, 08/10  Mon, 09/10  Tue, 10/10  \\\n",
       "0        4.09        0.95       13.85       -0.96       32.06       30.22   \n",
       "2        2.09        9.88       11.85       -2.37       30.64       29.96   \n",
       "4        1.80        3.23       10.72       -0.03       30.02       30.19   \n",
       "6        8.91        0.43       11.04       -0.96       30.09       30.00   \n",
       "8       12.46        4.46        9.00       -0.08       30.01       30.74   \n",
       "\n",
       "   Wed, 11/10  \n",
       "0       22.04  \n",
       "2       21.31  \n",
       "4       22.79  \n",
       "6       23.09  \n",
       "8       27.05  "
      ]
     },
     "execution_count": 12,
     "metadata": {},
     "output_type": "execute_result"
    }
   ],
   "source": [
    "df[::2].head()"
   ]
  },
  {
   "cell_type": "markdown",
   "metadata": {},
   "source": [
    "The iterator loops over all rows, but increments the index in increments of two, so that we only get to see rows with an even number. The function *head()* finally shows us the first five rows of the resulting copy of the DataFrame.\n",
    "\n",
    "The next step is to flatten the resulting table, so that all columns of the table are stacked on top of each other, and all 7 x 24 prices are returned as a single long array. Before we can stack the columns, we must transpose the table, since the function *stack()* works row-wise and not column-wise. The function *tranpose()* simply flips the indices internally, which corresponds to the mathematical concept of transposing a matrix."
   ]
  },
  {
   "cell_type": "code",
   "execution_count": 13,
   "metadata": {
    "collapsed": true
   },
   "outputs": [],
   "source": [
    "prices = df[::2].transpose().stack()"
   ]
  },
  {
   "cell_type": "markdown",
   "metadata": {},
   "source": [
    "Although the dates are provided in the columns, they are not in a good format to be parsed as dates. Since we know the last day of the week, however, we can create our own time index, by using the Pandas builder function *date_range()*. We then replace the existing index with the new datetime index."
   ]
  },
  {
   "cell_type": "code",
   "execution_count": 14,
   "metadata": {
    "collapsed": true
   },
   "outputs": [],
   "source": [
    "index = pd.date_range(end='%s-23:00'%date, periods=7*24, freq='h')\n",
    "prices = df[::2].transpose().stack()\n",
    "prices.index = index"
   ]
  },
  {
   "cell_type": "markdown",
   "metadata": {},
   "source": [
    "Note that the last element of the date time index is defined to as 23:00. If we do not specify the last hour, the index would have started at 1:00 and not at 0:00. Since prices are valid for a whole hour, in this case going from 0:00 to 1:00, it is really a matter of definition, whether we set the axis tick at 0:00 or 1:00, but it is more natural to pick the beginning of an hour as the tick.\n",
    "\n",
    "To finally plot the result we can now use the function *plot()* which will return a line chart with the time series of hourly prices. We can see that, by providing a datetime index, the x-axis automatically gets properly formated with the correct dates."
   ]
  },
  {
   "cell_type": "code",
   "execution_count": 15,
   "metadata": {
    "collapsed": true
   },
   "outputs": [],
   "source": [
    "pd.date_range?"
   ]
  },
  {
   "cell_type": "markdown",
   "metadata": {},
   "source": [
    "pd.date_range(start=None, end=None, periods=None, freq='D', tz=None, normalize=False, name=None, closed=None, **kwargs)\n",
    "\n",
    "Parameters:\n",
    "\n",
    "start : string or datetime-like, default None\n",
    "    Left bound for generating dates\n",
    "    \n",
    "end : string or datetime-like, default None\n",
    "    Right bound for generating dates\n",
    "    \n",
    "periods : integer or None, default None\n",
    "    If None, must specify start and end\n",
    "    \n",
    "freq : string or DateOffset, default 'D' (calendar daily)\n",
    "    Frequency strings can have multiples, e.g. '5H'\n",
    "    \n",
    "tz : string or None\n",
    "    Time zone name for returning localized DatetimeIndex, for example\n",
    "Asia/Hong_Kong\n",
    "\n",
    "normalize : bool, default False\n",
    "    Normalize start/end dates to midnight before generating date range\n",
    "    \n",
    "name : str, default None\n",
    "    Name of the resulting index\n",
    "    \n",
    "closed : string or None, default None\n",
    "    Make the interval closed with respect to the given frequency to\n",
    "    the 'left', 'right', or both sides (None)\n"
   ]
  },
  {
   "cell_type": "code",
   "execution_count": 16,
   "metadata": {
    "collapsed": true
   },
   "outputs": [],
   "source": [
    "prices.index?"
   ]
  },
  {
   "cell_type": "markdown",
   "metadata": {},
   "source": [
    "DatetimeIndex(['2017-10-05 00:00:00', '2017-10-05 01:00:00',\n",
    "           '2017-10-05 02:00:00' <...> 11 22:00:00', '2017-10-11 23:00:00'],\n",
    "           dtype='datetime64[ns]', length=168, freq='H')\n"
   ]
  },
  {
   "cell_type": "code",
   "execution_count": 17,
   "metadata": {},
   "outputs": [
    {
     "data": {
      "text/plain": [
       "<matplotlib.axes._subplots.AxesSubplot at 0x7fb053793898>"
      ]
     },
     "execution_count": 17,
     "metadata": {},
     "output_type": "execute_result"
    },
    {
     "data": {
      "image/png": "[encoded data removed]",
      "text/plain": [
       "<matplotlib.figure.Figure at 0x7fb0571107f0>"
      ]
     },
     "metadata": {},
     "output_type": "display_data"
    }
   ],
   "source": [
    "prices.plot()"
   ]
  },
  {
   "cell_type": "markdown",
   "metadata": {},
   "source": [
    "Now we can do the same with the volumes. This time we need all odd rows, so the index has to start at 1. The datetime index for volumes and prices is the same, so that we can replace the volumes index with our previously created datetime index."
   ]
  },
  {
   "cell_type": "code",
   "execution_count": 18,
   "metadata": {},
   "outputs": [
    {
     "data": {
      "text/plain": [
       "<matplotlib.axes._subplots.AxesSubplot at 0x7fb0536777f0>"
      ]
     },
     "execution_count": 18,
     "metadata": {},
     "output_type": "execute_result"
    },
    {
     "data": {
      "image/png": "[encoded data removed]",
      "text/plain": [
       "<matplotlib.figure.Figure at 0x7fb0537977b8>"
      ]
     },
     "metadata": {},
     "output_type": "display_data"
    }
   ],
   "source": [
    "volumes = df[1::2].transpose().stack()\n",
    "volumes.index = index\n",
    "volumes.plot()"
   ]
  },
  {
   "cell_type": "markdown",
   "metadata": {},
   "source": [
    "The above data is not stored as a DataFrame but as a *Series* which, in contrast to DataFrame, is one-dimensional. Since Series cannot be extended, we must first create a new empty DataFrame with our datetime index as its index. Then we append prices and volumes to the newsly created DataFrame and call *head()* to look at the first firve rows."
   ]
  },
  {
   "cell_type": "code",
   "execution_count": 19,
   "metadata": {},
   "outputs": [
    {
     "data": {
      "text/html": [
       "<div>\n",
       "<table border=\"1\" class=\"dataframe\">\n",
       "  <thead>\n",
       "    <tr style=\"text-align: right;\">\n",
       "      <th></th>\n",
       "      <th>prices</th>\n",
       "      <th>volumes</th>\n",
       "    </tr>\n",
       "  </thead>\n",
       "  <tbody>\n",
       "    <tr>\n",
       "      <th>2017-10-05 00:00:00</th>\n",
       "      <td>4.09</td>\n",
       "      <td>28873.0</td>\n",
       "    </tr>\n",
       "    <tr>\n",
       "      <th>2017-10-05 01:00:00</th>\n",
       "      <td>2.09</td>\n",
       "      <td>29697.5</td>\n",
       "    </tr>\n",
       "    <tr>\n",
       "      <th>2017-10-05 02:00:00</th>\n",
       "      <td>1.80</td>\n",
       "      <td>30656.5</td>\n",
       "    </tr>\n",
       "    <tr>\n",
       "      <th>2017-10-05 03:00:00</th>\n",
       "      <td>8.91</td>\n",
       "      <td>30551.9</td>\n",
       "    </tr>\n",
       "    <tr>\n",
       "      <th>2017-10-05 04:00:00</th>\n",
       "      <td>12.46</td>\n",
       "      <td>30941.4</td>\n",
       "    </tr>\n",
       "  </tbody>\n",
       "</table>\n",
       "</div>"
      ],
      "text/plain": [
       "                     prices  volumes\n",
       "2017-10-05 00:00:00    4.09  28873.0\n",
       "2017-10-05 01:00:00    2.09  29697.5\n",
       "2017-10-05 02:00:00    1.80  30656.5\n",
       "2017-10-05 03:00:00    8.91  30551.9\n",
       "2017-10-05 04:00:00   12.46  30941.4"
      ]
     },
     "execution_count": 19,
     "metadata": {},
     "output_type": "execute_result"
    }
   ],
   "source": [
    "df = pd.concat([prices, volumes], axis=1)\n",
    "df.columns = [\"prices\", \"volumes\"]\n",
    "df.head()"
   ]
  },
  {
   "cell_type": "markdown",
   "metadata": {},
   "source": [
    "Now that our data is in the right format and shape, we can begin with our exploratory analyses."
   ]
  },
  {
   "cell_type": "markdown",
   "metadata": {},
   "source": [
    "## Homework\n",
    "\n",
    "Names: \n",
    "Milena Durdic\n",
    "Dragana Saric\n",
    "Paul Kneringer\n",
    "Petar Petrov"
   ]
  },
  {
   "cell_type": "markdown",
   "metadata": {},
   "source": [
    "### Exercise 1\n",
    "Collect price and volume data from the entire year of 2017. Use pd.concat() to merge all dataframes together into a single one. A few hints:\n",
    "- You need to loop over a number of dates which are one week apart. To create such a list use pandas *date_range* function and create dates in weekly frequency.\n",
    "- Iteratively extend your DataFrame with the new data using Pandas concat function.\n",
    "- If you run into errors when collecting an entire year and are unable to resolve these errors on your own, at least try to collect as many weeks as possible."
   ]
  },
  {
   "cell_type": "code",
   "execution_count": 1,
   "metadata": {
    "collapsed": true
   },
   "outputs": [],
   "source": [
    "from bs4 import BeautifulSoup\n",
    "import urllib.request\n",
    "import pandas as pd\n",
    "import matplotlib.pyplot as plt\n",
    "%matplotlib inline"
   ]
  },
  {
   "cell_type": "code",
   "execution_count": 2,
   "metadata": {},
   "outputs": [
    {
     "data": {
      "text/html": [
       "<div>\n",
       "<style>\n",
       "    .dataframe thead tr:only-child th {\n",
       "        text-align: right;\n",
       "    }\n",
       "\n",
       "    .dataframe thead th {\n",
       "        text-align: left;\n",
       "    }\n",
       "\n",
       "    .dataframe tbody tr th {\n",
       "        vertical-align: top;\n",
       "    }\n",
       "</style>\n",
       "<table border=\"1\" class=\"dataframe\">\n",
       "  <thead>\n",
       "    <tr style=\"text-align: right;\">\n",
       "      <th></th>\n",
       "      <th>Prices</th>\n",
       "      <th>Volumes</th>\n",
       "    </tr>\n",
       "  </thead>\n",
       "  <tbody>\n",
       "    <tr>\n",
       "      <th>2017-04-02 01:00:00-23:00</th>\n",
       "      <td>34.38</td>\n",
       "      <td>20432.3</td>\n",
       "    </tr>\n",
       "    <tr>\n",
       "      <th>2017-04-02 02:00:00-23:00</th>\n",
       "      <td>31.95</td>\n",
       "      <td>20702.3</td>\n",
       "    </tr>\n",
       "    <tr>\n",
       "      <th>2017-04-02 03:00:00-23:00</th>\n",
       "      <td>29.88</td>\n",
       "      <td>20574.1</td>\n",
       "    </tr>\n",
       "    <tr>\n",
       "      <th>2017-04-02 04:00:00-23:00</th>\n",
       "      <td>28.75</td>\n",
       "      <td>19403.0</td>\n",
       "    </tr>\n",
       "    <tr>\n",
       "      <th>2017-04-02 05:00:00-23:00</th>\n",
       "      <td>28.44</td>\n",
       "      <td>19043.9</td>\n",
       "    </tr>\n",
       "    <tr>\n",
       "      <th>2017-04-02 06:00:00-23:00</th>\n",
       "      <td>31.64</td>\n",
       "      <td>19653.6</td>\n",
       "    </tr>\n",
       "    <tr>\n",
       "      <th>2017-04-02 07:00:00-23:00</th>\n",
       "      <td>41.77</td>\n",
       "      <td>20675.9</td>\n",
       "    </tr>\n",
       "    <tr>\n",
       "      <th>2017-04-02 08:00:00-23:00</th>\n",
       "      <td>49.28</td>\n",
       "      <td>24019.5</td>\n",
       "    </tr>\n",
       "    <tr>\n",
       "      <th>2017-04-02 09:00:00-23:00</th>\n",
       "      <td>54.02</td>\n",
       "      <td>24100.1</td>\n",
       "    </tr>\n",
       "    <tr>\n",
       "      <th>2017-04-02 10:00:00-23:00</th>\n",
       "      <td>50.00</td>\n",
       "      <td>24896.6</td>\n",
       "    </tr>\n",
       "    <tr>\n",
       "      <th>2017-04-02 11:00:00-23:00</th>\n",
       "      <td>48.43</td>\n",
       "      <td>25076.6</td>\n",
       "    </tr>\n",
       "    <tr>\n",
       "      <th>2017-04-02 12:00:00-23:00</th>\n",
       "      <td>44.95</td>\n",
       "      <td>27012.9</td>\n",
       "    </tr>\n",
       "    <tr>\n",
       "      <th>2017-04-02 13:00:00-23:00</th>\n",
       "      <td>38.93</td>\n",
       "      <td>29374.2</td>\n",
       "    </tr>\n",
       "    <tr>\n",
       "      <th>2017-04-02 14:00:00-23:00</th>\n",
       "      <td>36.68</td>\n",
       "      <td>30159.1</td>\n",
       "    </tr>\n",
       "    <tr>\n",
       "      <th>2017-04-02 15:00:00-23:00</th>\n",
       "      <td>32.94</td>\n",
       "      <td>28911.3</td>\n",
       "    </tr>\n",
       "    <tr>\n",
       "      <th>2017-04-02 16:00:00-23:00</th>\n",
       "      <td>30.91</td>\n",
       "      <td>26400.3</td>\n",
       "    </tr>\n",
       "    <tr>\n",
       "      <th>2017-04-02 17:00:00-23:00</th>\n",
       "      <td>31.72</td>\n",
       "      <td>24608.9</td>\n",
       "    </tr>\n",
       "    <tr>\n",
       "      <th>2017-04-02 18:00:00-23:00</th>\n",
       "      <td>32.19</td>\n",
       "      <td>23801.8</td>\n",
       "    </tr>\n",
       "    <tr>\n",
       "      <th>2017-04-02 19:00:00-23:00</th>\n",
       "      <td>37.46</td>\n",
       "      <td>23048.6</td>\n",
       "    </tr>\n",
       "    <tr>\n",
       "      <th>2017-04-02 20:00:00-23:00</th>\n",
       "      <td>41.78</td>\n",
       "      <td>21777.7</td>\n",
       "    </tr>\n",
       "  </tbody>\n",
       "</table>\n",
       "</div>"
      ],
      "text/plain": [
       "                           Prices  Volumes\n",
       "2017-04-02 01:00:00-23:00   34.38  20432.3\n",
       "2017-04-02 02:00:00-23:00   31.95  20702.3\n",
       "2017-04-02 03:00:00-23:00   29.88  20574.1\n",
       "2017-04-02 04:00:00-23:00   28.75  19403.0\n",
       "2017-04-02 05:00:00-23:00   28.44  19043.9\n",
       "2017-04-02 06:00:00-23:00   31.64  19653.6\n",
       "2017-04-02 07:00:00-23:00   41.77  20675.9\n",
       "2017-04-02 08:00:00-23:00   49.28  24019.5\n",
       "2017-04-02 09:00:00-23:00   54.02  24100.1\n",
       "2017-04-02 10:00:00-23:00   50.00  24896.6\n",
       "2017-04-02 11:00:00-23:00   48.43  25076.6\n",
       "2017-04-02 12:00:00-23:00   44.95  27012.9\n",
       "2017-04-02 13:00:00-23:00   38.93  29374.2\n",
       "2017-04-02 14:00:00-23:00   36.68  30159.1\n",
       "2017-04-02 15:00:00-23:00   32.94  28911.3\n",
       "2017-04-02 16:00:00-23:00   30.91  26400.3\n",
       "2017-04-02 17:00:00-23:00   31.72  24608.9\n",
       "2017-04-02 18:00:00-23:00   32.19  23801.8\n",
       "2017-04-02 19:00:00-23:00   37.46  23048.6\n",
       "2017-04-02 20:00:00-23:00   41.78  21777.7"
      ]
     },
     "execution_count": 2,
     "metadata": {},
     "output_type": "execute_result"
    }
   ],
   "source": [
    "start_date = pd.datetime(2017,4,9)\n",
    "end_date = pd.datetime(2017,10,22) \n",
    "\n",
    "data_frame_2017 = pd.DataFrame(dtype=float)\n",
    "\n",
    "dates = pd.date_range(start_date, end_date, freq='W')\n",
    "\n",
    "for date in dates:\n",
    "    url = urllib.request.urlopen('https://www.epexspot.com/en/market-data/dayaheadauction/auction-table/%s/de'%date)\n",
    "    url = url.read()\n",
    "    soup = BeautifulSoup(url,\"lxml\") \n",
    "\n",
    "    table = soup.find_all('table', class_='list hours responsive')\n",
    "\n",
    "    df1 = pd.read_html(str(table[1]), header=0, encoding='utf8')[0]\n",
    "    \n",
    "    #modifying\n",
    "    df1 = df1.drop(['Unnamed: 0', 'Unnamed: 1'], axis=1)\n",
    "    \n",
    "    prices = df1[::2].transpose().stack()\n",
    "    volumes = df1[1::2].transpose().stack()\n",
    "    \n",
    "    index = pd.date_range(end='%s-23:00'%date, periods=7*24, freq='h')\n",
    "    \n",
    "    prices.index = index\n",
    "    volumes.index = index\n",
    "    \n",
    "    df1 = pd.concat([prices, volumes], axis=1)\n",
    "    \n",
    "    df1.columns = ['Prices', 'Volumes']\n",
    "    \n",
    "    data_frame_2017 = pd.concat([data_frame_2017, df1], axis=0)\n",
    "    \n",
    "data_frame_2017.head(20)"
   ]
  },
  {
   "cell_type": "markdown",
   "metadata": {},
   "source": [
    "### Exercise 2\n",
    "Create a sample of peak prices (9:00 to 20:00) and base prices (24-hour mean) and summarize the data with a simple descriptive statistics containing min, max, mean, std deviation, as well as quantiles in steps of 0.1. Then create a histogram of the distribution of both figures in one plot."
   ]
  },
  {
   "cell_type": "markdown",
   "metadata": {
    "slideshow": {
     "slide_type": "fragment"
    }
   },
   "source": [
    "Peak prices:"
   ]
  },
  {
   "cell_type": "code",
   "execution_count": 21,
   "metadata": {
    "collapsed": true
   },
   "outputs": [],
   "source": [
    "data_frame_peak = data_frame_2017[(data_frame_2017.index.hour >= 9) & (data_frame_2017.index.hour <= 20)]"
   ]
  },
  {
   "cell_type": "code",
   "execution_count": 22,
   "metadata": {},
   "outputs": [
    {
     "name": "stdout",
     "output_type": "stream",
     "text": [
      "2017-04-02    54.02\n",
      "2017-04-03    52.39\n",
      "2017-04-04    48.10\n",
      "2017-04-05    40.98\n",
      "2017-04-06    41.57\n",
      "2017-04-07    39.43\n",
      "2017-04-08    38.24\n",
      "2017-04-09    38.32\n",
      "2017-04-10    43.50\n",
      "2017-04-11    37.95\n",
      "2017-04-12    40.00\n",
      "2017-04-13    38.74\n",
      "2017-04-14    20.10\n",
      "2017-04-15    31.07\n",
      "2017-04-16    32.15\n",
      "2017-04-17    45.39\n",
      "2017-04-18    48.38\n",
      "2017-04-19    52.00\n",
      "2017-04-20    42.61\n",
      "2017-04-21    23.01\n",
      "2017-04-22    30.63\n",
      "2017-04-23    43.30\n",
      "2017-04-24    43.00\n",
      "2017-04-25    53.47\n",
      "2017-04-26    45.93\n",
      "2017-04-27    46.94\n",
      "2017-04-28    34.93\n",
      "2017-04-29     9.56\n",
      "2017-04-30    25.78\n",
      "2017-05-01    39.98\n",
      "              ...  \n",
      "2017-09-22    45.20\n",
      "2017-09-23    46.94\n",
      "2017-09-24    53.77\n",
      "2017-09-25    55.20\n",
      "2017-09-26    57.00\n",
      "2017-09-27    49.78\n",
      "2017-09-28    51.20\n",
      "2017-09-29    48.25\n",
      "2017-09-30    49.90\n",
      "2017-10-01    36.04\n",
      "2017-10-02    39.54\n",
      "2017-10-03    55.93\n",
      "2017-10-04    41.92\n",
      "2017-10-05    48.52\n",
      "2017-10-06    24.92\n",
      "2017-10-07    47.97\n",
      "2017-10-08    62.01\n",
      "2017-10-09    56.94\n",
      "2017-10-10    49.93\n",
      "2017-10-11    46.32\n",
      "2017-10-12    64.82\n",
      "2017-10-13    52.51\n",
      "2017-10-14    45.05\n",
      "2017-10-15    66.73\n",
      "2017-10-16    67.92\n",
      "2017-10-17    83.02\n",
      "2017-10-18    68.54\n",
      "2017-10-19    51.28\n",
      "2017-10-20    47.71\n",
      "2017-10-21    49.97\n",
      "Name: Prices, Length: 203, dtype: float64\n"
     ]
    }
   ],
   "source": [
    "data_frame_peak = data_frame_peak.drop(data_frame_peak.columns[1:], axis=1)\n",
    "data_frame_peak.columns = ['Prices']\n",
    "\n",
    "data_frame_peak = data_frame_peak.groupby(data_frame_peak.index.date)['Prices'].max()\n",
    "print(data_frame_peak)\n"
   ]
  },
  {
   "cell_type": "code",
   "execution_count": 23,
   "metadata": {},
   "outputs": [
    {
     "name": "stdout",
     "output_type": "stream",
     "text": [
      "Summarized descriptive statistics for peak prices: \n",
      "Minimum: 9.56\n",
      "Maximum: 83.02\n",
      "Standard deviation: 8.958658478117806\n",
      "Mean: 42.72517241379311\n"
     ]
    }
   ],
   "source": [
    "print(\"Summarized descriptive statistics for peak prices: \")\n",
    "print('Minimum: ' + str(data_frame_peak.min()))\n",
    "print('Maximum: ' + str(data_frame_peak.max()))\n",
    "print('Standard deviation: ' + str(data_frame_peak.std()))\n",
    "print('Mean: ' + str(data_frame_peak.mean()))"
   ]
  },
  {
   "cell_type": "code",
   "execution_count": 24,
   "metadata": {},
   "outputs": [
    {
     "name": "stdout",
     "output_type": "stream",
     "text": [
      "Quantile 0.25: 37.975\n",
      "Quantile 0.75: 47.89\n"
     ]
    }
   ],
   "source": [
    "quantiles = data_frame_peak.quantile([0.25, 0.75])\n",
    "print('Quantile 0.25: ' + str(quantiles.iloc[0]))\n",
    "print('Quantile 0.75: ' + str(quantiles.iloc[1]))"
   ]
  },
  {
   "cell_type": "code",
   "execution_count": 25,
   "metadata": {
    "collapsed": true
   },
   "outputs": [],
   "source": [
    "data_frame_avg = data_frame_2017[(data_frame_2017.index.hour >= 0) & (data_frame_2017.index.hour <= 23)]"
   ]
  },
  {
   "cell_type": "code",
   "execution_count": 26,
   "metadata": {},
   "outputs": [
    {
     "name": "stdout",
     "output_type": "stream",
     "text": [
      "2017-04-02    37.993043\n",
      "2017-04-03    38.565833\n",
      "2017-04-04    33.231250\n",
      "2017-04-05    29.665417\n",
      "2017-04-06    33.408333\n",
      "2017-04-07    34.430833\n",
      "2017-04-08    28.850000\n",
      "2017-04-09    27.376667\n",
      "2017-04-10    33.255000\n",
      "2017-04-11    27.981250\n",
      "2017-04-12    28.856667\n",
      "2017-04-13    30.127917\n",
      "2017-04-14    15.758750\n",
      "2017-04-15    17.681250\n",
      "2017-04-16    25.276667\n",
      "2017-04-17    34.297917\n",
      "2017-04-18    36.898750\n",
      "2017-04-19    37.390417\n",
      "2017-04-20    28.758750\n",
      "2017-04-21    11.573333\n",
      "2017-04-22    10.757083\n",
      "2017-04-23    30.755000\n",
      "2017-04-24    36.411250\n",
      "2017-04-25    39.942917\n",
      "2017-04-26    36.809167\n",
      "2017-04-27    36.908750\n",
      "2017-04-28    30.258750\n",
      "2017-04-29    -2.555000\n",
      "2017-04-30   -27.690417\n",
      "2017-05-01    28.185833\n",
      "                ...    \n",
      "2017-09-23    34.917083\n",
      "2017-09-24    42.263333\n",
      "2017-09-25    40.419583\n",
      "2017-09-26    40.985833\n",
      "2017-09-27    40.299167\n",
      "2017-09-28    39.819583\n",
      "2017-09-29    35.687917\n",
      "2017-09-30    30.436667\n",
      "2017-10-01    18.494583\n",
      "2017-10-02    23.955000\n",
      "2017-10-03    29.509167\n",
      "2017-10-04    17.554167\n",
      "2017-10-05    26.625417\n",
      "2017-10-06     8.647917\n",
      "2017-10-07    22.000833\n",
      "2017-10-08    42.483750\n",
      "2017-10-09    37.745000\n",
      "2017-10-10    34.283333\n",
      "2017-10-11    24.993333\n",
      "2017-10-12    39.624583\n",
      "2017-10-13    31.424167\n",
      "2017-10-14    31.289583\n",
      "2017-10-15    38.020417\n",
      "2017-10-16    37.301667\n",
      "2017-10-17    52.546250\n",
      "2017-10-18    46.594167\n",
      "2017-10-19    37.690417\n",
      "2017-10-20    34.959167\n",
      "2017-10-21    21.288333\n",
      "2017-10-22    29.050000\n",
      "Name: Prices, Length: 204, dtype: float64\n"
     ]
    }
   ],
   "source": [
    "data_frame_avg = data_frame_avg.drop(data_frame_avg.columns[1:], axis=1)\n",
    "data_frame_avg.columns = ['Prices']\n",
    "\n",
    "data_frame_avg = data_frame_avg.groupby(data_frame_avg.index.date)['Prices'].mean()\n",
    "print(data_frame_avg)"
   ]
  },
  {
   "cell_type": "code",
   "execution_count": 27,
   "metadata": {},
   "outputs": [
    {
     "data": {
      "text/html": [
       "<div>\n",
       "<style>\n",
       "    .dataframe thead tr:only-child th {\n",
       "        text-align: right;\n",
       "    }\n",
       "\n",
       "    .dataframe thead th {\n",
       "        text-align: left;\n",
       "    }\n",
       "\n",
       "    .dataframe tbody tr th {\n",
       "        vertical-align: top;\n",
       "    }\n",
       "</style>\n",
       "<table border=\"1\" class=\"dataframe\">\n",
       "  <thead>\n",
       "    <tr style=\"text-align: right;\">\n",
       "      <th></th>\n",
       "      <th>Peak Price</th>\n",
       "      <th>Average</th>\n",
       "    </tr>\n",
       "  </thead>\n",
       "  <tbody>\n",
       "    <tr>\n",
       "      <th>2017-04-02</th>\n",
       "      <td>54.02</td>\n",
       "      <td>37.993043</td>\n",
       "    </tr>\n",
       "    <tr>\n",
       "      <th>2017-04-03</th>\n",
       "      <td>52.39</td>\n",
       "      <td>38.565833</td>\n",
       "    </tr>\n",
       "    <tr>\n",
       "      <th>2017-04-04</th>\n",
       "      <td>48.10</td>\n",
       "      <td>33.231250</td>\n",
       "    </tr>\n",
       "    <tr>\n",
       "      <th>2017-04-05</th>\n",
       "      <td>40.98</td>\n",
       "      <td>29.665417</td>\n",
       "    </tr>\n",
       "    <tr>\n",
       "      <th>2017-04-06</th>\n",
       "      <td>41.57</td>\n",
       "      <td>33.408333</td>\n",
       "    </tr>\n",
       "  </tbody>\n",
       "</table>\n",
       "</div>"
      ],
      "text/plain": [
       "            Peak Price    Average\n",
       "2017-04-02       54.02  37.993043\n",
       "2017-04-03       52.39  38.565833\n",
       "2017-04-04       48.10  33.231250\n",
       "2017-04-05       40.98  29.665417\n",
       "2017-04-06       41.57  33.408333"
      ]
     },
     "execution_count": 27,
     "metadata": {},
     "output_type": "execute_result"
    }
   ],
   "source": [
    "data_frame_peak_and_average = pd.DataFrame(columns = ['Peak Price', 'Average'])\n",
    "data_frame_peak_and_average['Peak Price'] = data_frame_peak\n",
    "data_frame_peak_and_average['Average'] = data_frame_avg\n",
    "data_frame_peak_and_average.head() \n"
   ]
  },
  {
   "cell_type": "code",
   "execution_count": 28,
   "metadata": {},
   "outputs": [
    {
     "data": {
      "text/plain": [
       "<matplotlib.axes._subplots.AxesSubplot at 0x2478f3bb9b0>"
      ]
     },
     "execution_count": 28,
     "metadata": {},
     "output_type": "execute_result"
    },
    {
     "data": {
      "image/png": "[encoded data removed]",
      "text/plain": [
       "<matplotlib.figure.Figure at 0x2478f926a20>"
      ]
     },
     "metadata": {},
     "output_type": "display_data"
    }
   ],
   "source": [
    "data_frame_peak_and_average.plot.hist(stacked=True)"
   ]
  },
  {
   "cell_type": "markdown",
   "metadata": {},
   "source": [
    "### Exercise 3\n",
    "Group the data by hour and plot the price distribution in one graph by horizontally stacking a number of box plots."
   ]
  },
  {
   "cell_type": "code",
   "execution_count": 29,
   "metadata": {},
   "outputs": [
    {
     "name": "stdout",
     "output_type": "stream",
     "text": [
      "                           Prices\n",
      "2017-04-02 01:00:00-23:00   34.38\n",
      "2017-04-02 02:00:00-23:00   31.95\n",
      "2017-04-02 03:00:00-23:00   29.88\n",
      "2017-04-02 04:00:00-23:00   28.75\n",
      "2017-04-02 05:00:00-23:00   28.44\n",
      "2017-04-02 06:00:00-23:00   31.64\n",
      "2017-04-02 07:00:00-23:00   41.77\n",
      "2017-04-02 08:00:00-23:00   49.28\n",
      "2017-04-02 09:00:00-23:00   54.02\n",
      "2017-04-02 10:00:00-23:00   50.00\n",
      "2017-04-02 11:00:00-23:00   48.43\n",
      "2017-04-02 12:00:00-23:00   44.95\n",
      "2017-04-02 13:00:00-23:00   38.93\n",
      "2017-04-02 14:00:00-23:00   36.68\n",
      "2017-04-02 15:00:00-23:00   32.94\n",
      "2017-04-02 16:00:00-23:00   30.91\n",
      "2017-04-02 17:00:00-23:00   31.72\n",
      "2017-04-02 18:00:00-23:00   32.19\n",
      "2017-04-02 19:00:00-23:00   37.46\n",
      "2017-04-02 20:00:00-23:00   41.78\n",
      "2017-04-02 21:00:00-23:00   43.59\n",
      "2017-04-02 22:00:00-23:00   38.97\n",
      "2017-04-02 23:00:00-23:00   35.18\n",
      "2017-04-03 00:00:00-23:00   31.08\n",
      "2017-04-03 01:00:00-23:00   31.57\n",
      "2017-04-03 02:00:00-23:00   30.13\n",
      "2017-04-03 03:00:00-23:00   29.29\n",
      "2017-04-03 04:00:00-23:00   29.47\n",
      "2017-04-03 05:00:00-23:00   29.80\n",
      "2017-04-03 06:00:00-23:00   31.83\n",
      "...                           ...\n",
      "2017-10-20 19:00:00-23:00   40.20\n",
      "2017-10-20 20:00:00-23:00   40.71\n",
      "2017-10-20 21:00:00-23:00   31.75\n",
      "2017-10-20 22:00:00-23:00   28.59\n",
      "2017-10-20 23:00:00-23:00   27.50\n",
      "2017-10-21 00:00:00-23:00   15.48\n",
      "2017-10-21 01:00:00-23:00   19.10\n",
      "2017-10-21 02:00:00-23:00   19.03\n",
      "2017-10-21 03:00:00-23:00   16.90\n",
      "2017-10-21 04:00:00-23:00   12.98\n",
      "2017-10-21 05:00:00-23:00    9.24\n",
      "2017-10-21 06:00:00-23:00    5.23\n",
      "2017-10-21 07:00:00-23:00    9.86\n",
      "2017-10-21 08:00:00-23:00    9.85\n",
      "2017-10-21 09:00:00-23:00   13.04\n",
      "2017-10-21 10:00:00-23:00   12.90\n",
      "2017-10-21 11:00:00-23:00   13.09\n",
      "2017-10-21 12:00:00-23:00   14.30\n",
      "2017-10-21 13:00:00-23:00   13.58\n",
      "2017-10-21 14:00:00-23:00   13.44\n",
      "2017-10-21 15:00:00-23:00   13.50\n",
      "2017-10-21 16:00:00-23:00   23.39\n",
      "2017-10-21 17:00:00-23:00   28.65\n",
      "2017-10-21 18:00:00-23:00   34.45\n",
      "2017-10-21 19:00:00-23:00   49.90\n",
      "2017-10-21 20:00:00-23:00   49.97\n",
      "2017-10-21 21:00:00-23:00   44.92\n",
      "2017-10-21 22:00:00-23:00   35.88\n",
      "2017-10-21 23:00:00-23:00   32.24\n",
      "2017-10-22 00:00:00-23:00   29.05\n",
      "\n",
      "[4872 rows x 1 columns]\n"
     ]
    }
   ],
   "source": [
    "data_frame_new = data_frame_2017.drop(data_frame_2017.columns[1:], axis=1)\n",
    "print(data_frame_new)\n",
    "#data_frame_new = data_frame_new.groupby(data_frame_new.index.hour)\n",
    "dff0 = data_frame_new.groupby(data_frame_new.index.hour)"
   ]
  },
  {
   "cell_type": "code",
   "execution_count": 30,
   "metadata": {},
   "outputs": [
    {
     "name": "stdout",
     "output_type": "stream",
     "text": [
      "0\n",
      "                           Prices\n",
      "2017-04-03 00:00:00-23:00   31.08\n",
      "2017-04-04 00:00:00-23:00   33.04\n",
      "2017-04-05 00:00:00-23:00   20.00\n",
      "2017-04-06 00:00:00-23:00   27.79\n",
      "2017-04-07 00:00:00-23:00   37.93\n",
      "1\n",
      "                           Prices\n",
      "2017-04-02 01:00:00-23:00   34.38\n",
      "2017-04-03 01:00:00-23:00   31.57\n",
      "2017-04-04 01:00:00-23:00   30.00\n",
      "2017-04-05 01:00:00-23:00   12.48\n",
      "2017-04-06 01:00:00-23:00   24.99\n",
      "2\n",
      "                           Prices\n",
      "2017-04-02 02:00:00-23:00   31.95\n",
      "2017-04-03 02:00:00-23:00   30.13\n",
      "2017-04-04 02:00:00-23:00   29.64\n",
      "2017-04-05 02:00:00-23:00    9.87\n",
      "2017-04-06 02:00:00-23:00   23.02\n",
      "3\n",
      "                           Prices\n",
      "2017-04-02 03:00:00-23:00   29.88\n",
      "2017-04-03 03:00:00-23:00   29.29\n",
      "2017-04-04 03:00:00-23:00   28.39\n",
      "2017-04-05 03:00:00-23:00    9.04\n",
      "2017-04-06 03:00:00-23:00   18.31\n",
      "4\n",
      "                           Prices\n",
      "2017-04-02 04:00:00-23:00   28.75\n",
      "2017-04-03 04:00:00-23:00   29.47\n",
      "2017-04-04 04:00:00-23:00   27.94\n",
      "2017-04-05 04:00:00-23:00   14.90\n",
      "2017-04-06 04:00:00-23:00   19.17\n",
      "5\n",
      "                           Prices\n",
      "2017-04-02 05:00:00-23:00   28.44\n",
      "2017-04-03 05:00:00-23:00   29.80\n",
      "2017-04-04 05:00:00-23:00   27.49\n",
      "2017-04-05 05:00:00-23:00   22.00\n",
      "2017-04-06 05:00:00-23:00   20.87\n",
      "6\n",
      "                           Prices\n",
      "2017-04-02 06:00:00-23:00   31.64\n",
      "2017-04-03 06:00:00-23:00   31.83\n",
      "2017-04-04 06:00:00-23:00   29.65\n",
      "2017-04-05 06:00:00-23:00   24.55\n",
      "2017-04-06 06:00:00-23:00   27.07\n",
      "7\n",
      "                           Prices\n",
      "2017-04-02 07:00:00-23:00   41.77\n",
      "2017-04-03 07:00:00-23:00   41.17\n",
      "2017-04-04 07:00:00-23:00   37.10\n",
      "2017-04-05 07:00:00-23:00   35.96\n",
      "2017-04-06 07:00:00-23:00   32.05\n",
      "8\n",
      "                           Prices\n",
      "2017-04-02 08:00:00-23:00   49.28\n",
      "2017-04-03 08:00:00-23:00   51.01\n",
      "2017-04-04 08:00:00-23:00   44.20\n",
      "2017-04-05 08:00:00-23:00   40.97\n",
      "2017-04-06 08:00:00-23:00   39.97\n",
      "9\n",
      "                           Prices\n",
      "2017-04-02 09:00:00-23:00   54.02\n",
      "2017-04-03 09:00:00-23:00   52.39\n",
      "2017-04-04 09:00:00-23:00   48.10\n",
      "2017-04-05 09:00:00-23:00   40.81\n",
      "2017-04-06 09:00:00-23:00   41.57\n",
      "10\n",
      "                           Prices\n",
      "2017-04-02 10:00:00-23:00   50.00\n",
      "2017-04-03 10:00:00-23:00   50.94\n",
      "2017-04-04 10:00:00-23:00   44.03\n",
      "2017-04-05 10:00:00-23:00   38.26\n",
      "2017-04-06 10:00:00-23:00   40.94\n",
      "11\n",
      "                           Prices\n",
      "2017-04-02 11:00:00-23:00   48.43\n",
      "2017-04-03 11:00:00-23:00   43.30\n",
      "2017-04-04 11:00:00-23:00   39.02\n",
      "2017-04-05 11:00:00-23:00   37.59\n",
      "2017-04-06 11:00:00-23:00   39.98\n",
      "12\n",
      "                           Prices\n",
      "2017-04-02 12:00:00-23:00   44.95\n",
      "2017-04-03 12:00:00-23:00   42.33\n",
      "2017-04-04 12:00:00-23:00   36.98\n",
      "2017-04-05 12:00:00-23:00   35.46\n",
      "2017-04-06 12:00:00-23:00   40.02\n",
      "13\n",
      "                           Prices\n",
      "2017-04-02 13:00:00-23:00   38.93\n",
      "2017-04-03 13:00:00-23:00   39.16\n",
      "2017-04-04 13:00:00-23:00   34.03\n",
      "2017-04-05 13:00:00-23:00   31.07\n",
      "2017-04-06 13:00:00-23:00   38.14\n",
      "14\n",
      "                           Prices\n",
      "2017-04-02 14:00:00-23:00   36.68\n",
      "2017-04-03 14:00:00-23:00   37.72\n",
      "2017-04-04 14:00:00-23:00   32.89\n",
      "2017-04-05 14:00:00-23:00   30.08\n",
      "2017-04-06 14:00:00-23:00   35.29\n",
      "15\n",
      "                           Prices\n",
      "2017-04-02 15:00:00-23:00   32.94\n",
      "2017-04-03 15:00:00-23:00   34.60\n",
      "2017-04-04 15:00:00-23:00   30.06\n",
      "2017-04-05 15:00:00-23:00   28.33\n",
      "2017-04-06 15:00:00-23:00   32.67\n",
      "16\n",
      "                           Prices\n",
      "2017-04-02 16:00:00-23:00   30.91\n",
      "2017-04-03 16:00:00-23:00   34.45\n",
      "2017-04-04 16:00:00-23:00   29.53\n",
      "2017-04-05 16:00:00-23:00   28.19\n",
      "2017-04-06 16:00:00-23:00   32.97\n",
      "17\n",
      "                           Prices\n",
      "2017-04-02 17:00:00-23:00   31.72\n",
      "2017-04-03 17:00:00-23:00   34.45\n",
      "2017-04-04 17:00:00-23:00   30.01\n",
      "2017-04-05 17:00:00-23:00   28.08\n",
      "2017-04-06 17:00:00-23:00   32.98\n",
      "18\n",
      "                           Prices\n",
      "2017-04-02 18:00:00-23:00   32.19\n",
      "2017-04-03 18:00:00-23:00   37.49\n",
      "2017-04-04 18:00:00-23:00   30.06\n",
      "2017-04-05 18:00:00-23:00   32.12\n",
      "2017-04-06 18:00:00-23:00   36.09\n",
      "19\n",
      "                           Prices\n",
      "2017-04-02 19:00:00-23:00   37.46\n",
      "2017-04-03 19:00:00-23:00   41.59\n",
      "2017-04-04 19:00:00-23:00   29.90\n",
      "2017-04-05 19:00:00-23:00   38.05\n",
      "2017-04-06 19:00:00-23:00   39.12\n",
      "20\n",
      "                           Prices\n",
      "2017-04-02 20:00:00-23:00   41.78\n",
      "2017-04-03 20:00:00-23:00   45.26\n",
      "2017-04-04 20:00:00-23:00   32.69\n",
      "2017-04-05 20:00:00-23:00   40.98\n",
      "2017-04-06 20:00:00-23:00   39.91\n",
      "21\n",
      "                           Prices\n",
      "2017-04-02 21:00:00-23:00   43.59\n",
      "2017-04-03 21:00:00-23:00   47.57\n",
      "2017-04-04 21:00:00-23:00   35.00\n",
      "2017-04-05 21:00:00-23:00   40.87\n",
      "2017-04-06 21:00:00-23:00   39.96\n",
      "22\n",
      "                           Prices\n",
      "2017-04-02 22:00:00-23:00   38.97\n",
      "2017-04-03 22:00:00-23:00   40.07\n",
      "2017-04-04 22:00:00-23:00   29.93\n",
      "2017-04-05 22:00:00-23:00   38.04\n",
      "2017-04-06 22:00:00-23:00   39.31\n",
      "23\n",
      "                           Prices\n",
      "2017-04-02 23:00:00-23:00   35.18\n",
      "2017-04-03 23:00:00-23:00   38.91\n",
      "2017-04-04 23:00:00-23:00   27.87\n",
      "2017-04-05 23:00:00-23:00   34.27\n",
      "2017-04-06 23:00:00-23:00   39.61\n"
     ]
    }
   ],
   "source": [
    "for title, group in dff0:\n",
    "    print(title)\n",
    "    print(group.head())\n",
    "    var = 'data{}'.format(title)\n",
    "    locals()[var] = group"
   ]
  },
  {
   "cell_type": "code",
   "execution_count": 31,
   "metadata": {},
   "outputs": [
    {
     "name": "stdout",
     "output_type": "stream",
     "text": [
      "                           Prices\n",
      "2017-04-03 00:00:00-23:00   31.08\n",
      "2017-04-04 00:00:00-23:00   33.04\n",
      "2017-04-05 00:00:00-23:00   20.00\n",
      "2017-04-06 00:00:00-23:00   27.79\n",
      "2017-04-07 00:00:00-23:00   37.93\n",
      "2017-04-08 00:00:00-23:00   39.02\n",
      "2017-04-09 00:00:00-23:00   24.08\n",
      "2017-04-10 00:00:00-23:00   24.02\n",
      "2017-04-11 00:00:00-23:00   30.17\n",
      "2017-04-12 00:00:00-23:00   23.05\n",
      "2017-04-13 00:00:00-23:00   32.97\n",
      "2017-04-14 00:00:00-23:00   36.95\n",
      "2017-04-15 00:00:00-23:00    9.23\n",
      "2017-04-16 00:00:00-23:00   30.46\n",
      "2017-04-17 00:00:00-23:00   30.95\n",
      "2017-04-18 00:00:00-23:00   31.07\n",
      "2017-04-19 00:00:00-23:00   34.16\n",
      "2017-04-20 00:00:00-23:00   29.22\n",
      "2017-04-21 00:00:00-23:00    3.55\n",
      "2017-04-22 00:00:00-23:00   20.20\n",
      "2017-04-23 00:00:00-23:00   29.95\n",
      "2017-04-24 00:00:00-23:00   38.55\n",
      "2017-04-25 00:00:00-23:00   33.40\n",
      "2017-04-26 00:00:00-23:00   32.58\n",
      "2017-04-27 00:00:00-23:00   32.00\n",
      "2017-04-28 00:00:00-23:00   31.08\n",
      "2017-04-29 00:00:00-23:00   30.47\n",
      "2017-04-30 00:00:00-23:00  -70.01\n",
      "2017-05-01 00:00:00-23:00   12.05\n",
      "2017-05-02 00:00:00-23:00   28.46\n",
      "...                           ...\n",
      "2017-09-23 00:00:00-23:00   31.72\n",
      "2017-09-24 00:00:00-23:00   32.45\n",
      "2017-09-25 00:00:00-23:00   34.85\n",
      "2017-09-26 00:00:00-23:00   35.43\n",
      "2017-09-27 00:00:00-23:00   32.94\n",
      "2017-09-28 00:00:00-23:00   32.96\n",
      "2017-09-29 00:00:00-23:00   30.60\n",
      "2017-09-30 00:00:00-23:00   29.06\n",
      "2017-10-01 00:00:00-23:00   13.94\n",
      "2017-10-02 00:00:00-23:00    9.39\n",
      "2017-10-03 00:00:00-23:00   22.08\n",
      "2017-10-04 00:00:00-23:00    0.49\n",
      "2017-10-05 00:00:00-23:00   11.81\n",
      "2017-10-06 00:00:00-23:00   26.87\n",
      "2017-10-07 00:00:00-23:00    0.47\n",
      "2017-10-08 00:00:00-23:00   35.25\n",
      "2017-10-09 00:00:00-23:00   32.93\n",
      "2017-10-10 00:00:00-23:00   22.76\n",
      "2017-10-11 00:00:00-23:00   22.09\n",
      "2017-10-12 00:00:00-23:00   31.37\n",
      "2017-10-13 00:00:00-23:00   29.63\n",
      "2017-10-14 00:00:00-23:00   31.43\n",
      "2017-10-15 00:00:00-23:00   18.40\n",
      "2017-10-16 00:00:00-23:00   31.11\n",
      "2017-10-17 00:00:00-23:00   36.79\n",
      "2017-10-18 00:00:00-23:00   36.94\n",
      "2017-10-19 00:00:00-23:00   31.04\n",
      "2017-10-20 00:00:00-23:00   32.74\n",
      "2017-10-21 00:00:00-23:00   15.48\n",
      "2017-10-22 00:00:00-23:00   29.05\n",
      "\n",
      "[203 rows x 1 columns]\n"
     ]
    }
   ],
   "source": [
    "print(data0)"
   ]
  },
  {
   "cell_type": "code",
   "execution_count": 32,
   "metadata": {},
   "outputs": [
    {
     "data": {
      "text/plain": [
       "<matplotlib.axes._subplots.AxesSubplot at 0x2478ef340f0>"
      ]
     },
     "execution_count": 32,
     "metadata": {},
     "output_type": "execute_result"
    },
    {
     "data": {
      "image/png": "[encoded data removed]",
      "text/plain": [
       "<matplotlib.figure.Figure at 0x2478ef43cf8>"
      ]
     },
     "metadata": {},
     "output_type": "display_data"
    }
   ],
   "source": [
    "color = dict(boxes='DarkGreen', whiskers='DarkOrange', medians='DarkBlue', caps='Gray')\n",
    "hourly=pd.DataFrame(dtype=float)\n",
    "hourly = pd.concat([data0,data1,data2,data3,data4,data5,data6,data7,data8,data9,data10,data11,data12,data13,data14,data15,data16,\n",
    "                 data17,data18,data19,data20,data21,data22,data23],axis=1)\n",
    "hourly.columns = ['0','1','2','3','4','5','6','7','8','9','10','11','12','13','14','15','16','17','18','19','20','21','22','23']\n",
    "hourly.boxplot(vert=False,showfliers=False,figsize=(30,30),fontsize=20)\n"
   ]
  },
  {
   "cell_type": "markdown",
   "metadata": {},
   "source": [
    "### Exercise 4\n",
    "Measure and plot the relationship between price and volume. What would be two numeric measures to describe the relationship? Briefly explain their differences. Hint:\n",
    "- We discussed this in class when I drew on the flipchart.\n",
    "- Do a little research on your own and explain the difference in your own words."
   ]
  },
  {
   "cell_type": "markdown",
   "metadata": {},
   "source": [
    "The two possible numeric measures to describe this relationship, as discussed in class, are Pearson ad Spearman correlations. Pearson product-moment correlation is useful because of its visual correlation with color range and it is good for future engineering. But if correlation between the two numeric measures have a specific order, like we had in the example from the class, Pearson correlation can show that there is no correlation even though that is not the proper outcome of our query. Pearson correlation coefficients measure only linear relationships. In that case we need another correlation type which takes the order into account and sorts before it looks at the correlation. That correlation type is Spearman correlation and it can tell us more about the data compared to the Pearson correlation type. However, computing both can be of certain value to us since we can then compare the two measures. Spearman correlation is computed on ranks and depicts monotonic relationships while Pearson correlation is computed on true values depicts linear relationships. So if, for example, Spearman correlation > Pearson correlation, that means that we have a correlation that is monotonic but not linear."
   ]
  },
  {
   "cell_type": "code",
   "execution_count": 33,
   "metadata": {
    "scrolled": false
   },
   "outputs": [
    {
     "name": "stdout",
     "output_type": "stream",
     "text": [
      "Corellation is -0.302862123691\n"
     ]
    }
   ],
   "source": [
    "corr = data_frame_2017['Volumes'].corr(data_frame_2017['Prices'])\n",
    "print(\"Corellation is \" + str(corr))"
   ]
  },
  {
   "cell_type": "code",
   "execution_count": 34,
   "metadata": {},
   "outputs": [
    {
     "data": {
      "text/plain": [
       "<matplotlib.axes._subplots.AxesSubplot at 0x2478ef43710>"
      ]
     },
     "execution_count": 34,
     "metadata": {},
     "output_type": "execute_result"
    },
    {
     "data": {
      "image/png": "[encoded data removed]",
      "text/plain": [
       "<matplotlib.figure.Figure at 0x2478ecdf048>"
      ]
     },
     "metadata": {},
     "output_type": "display_data"
    }
   ],
   "source": [
    "data_frame_2017.plot.scatter(x='Volumes', y='Prices')"
   ]
  },
  {
   "cell_type": "code",
   "execution_count": 35,
   "metadata": {},
   "outputs": [
    {
     "data": {
      "text/plain": [
       "<matplotlib.axes._subplots.AxesSubplot at 0x2478f7f5438>"
      ]
     },
     "execution_count": 35,
     "metadata": {},
     "output_type": "execute_result"
    },
    {
     "data": {
      "image/png": "[encoded data removed]",
      "text/plain": [
       "<matplotlib.figure.Figure at 0x2478fac4a20>"
      ]
     },
     "metadata": {},
     "output_type": "display_data"
    }
   ],
   "source": [
    "data_frame_2017.plot.scatter(x='Prices', y='Volumes')"
   ]
  },
  {
   "cell_type": "markdown",
   "metadata": {},
   "source": [
    "### Exercise 5\n",
    "Create a time series of daily averages and plot the result."
   ]
  },
  {
   "cell_type": "code",
   "execution_count": 36,
   "metadata": {},
   "outputs": [
    {
     "data": {
      "text/plain": [
       "<matplotlib.axes._subplots.AxesSubplot at 0x2478fad6cc0>"
      ]
     },
     "execution_count": 36,
     "metadata": {},
     "output_type": "execute_result"
    },
    {
     "data": {
      "image/png": "[encoded data removed]",
      "text/plain": [
       "<matplotlib.figure.Figure at 0x2478fa17668>"
      ]
     },
     "metadata": {},
     "output_type": "display_data"
    }
   ],
   "source": [
    "df = data_frame_2017['Prices'].groupby(data_frame_2017.index.date).mean()\n",
    "df.plot()"
   ]
  },
  {
   "cell_type": "code",
   "execution_count": 37,
   "metadata": {},
   "outputs": [
    {
     "data": {
      "text/plain": [
       "<matplotlib.axes._subplots.AxesSubplot at 0x24791febc18>"
      ]
     },
     "execution_count": 37,
     "metadata": {},
     "output_type": "execute_result"
    },
    {
     "data": {
      "image/png": "[encoded data removed]",
      "text/plain": [
       "<matplotlib.figure.Figure at 0x24791fdef98>"
      ]
     },
     "metadata": {},
     "output_type": "display_data"
    }
   ],
   "source": [
    "df1 = data_frame_2017['Volumes'].groupby(data_frame_2017.index.date).mean()\n",
    "df1.plot()"
   ]
  },
  {
   "cell_type": "markdown",
   "metadata": {},
   "source": [
    "### What you have learned\n",
    "\n",
    "If you have gotton this far on your own, you have learned a great deal about getting things done in Python and Pandas. You now know a tool to collect data from the web, you have gotton a feel of Pandas indexing, aggregating and merging, and you have run some basic exploratory data analysis. Great job!"
   ]
  }
 ],
 "metadata": {
  "kernelspec": {
   "display_name": "Python 3",
   "language": "python",
   "name": "python3"
  },
  "language_info": {
   "codemirror_mode": {
    "name": "ipython",
    "version": 3
   },
   "file_extension": ".py",
   "mimetype": "text/x-python",
   "name": "python",
   "nbconvert_exporter": "python",
   "pygments_lexer": "ipython3",
   "version": "3.6.2"
  },
  "widgets": {
   "state": {},
   "version": "1.1.2"
  }
 },
 "nbformat": 4,
 "nbformat_minor": 1
}
