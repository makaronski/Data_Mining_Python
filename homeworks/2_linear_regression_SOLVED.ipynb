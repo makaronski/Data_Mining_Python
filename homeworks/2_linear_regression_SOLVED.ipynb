{
 "cells": [
  {
   "cell_type": "markdown",
   "metadata": {},
   "source": [
    "## Homework 2\n",
    "\n",
    "Dragana Saric, Milena Djurdjic, Paul Kneringer, Petar Petrov"
   ]
  },
  {
   "cell_type": "markdown",
   "metadata": {},
   "source": [
    "### Exercise 1\n",
    "Implement AdaGrad and use it to fit the linear advertising sales model. Wrap AdaGrad into a separate function that requires X and y as input arguments (optional: iterations, default = 10n) and returns the parameter vector b. This function should be used from now on two fit models. What do you observe when comparing it to stochastic gradient descent or the analytic solution using scikit-learn?"
   ]
  },
  {
   "cell_type": "code",
   "execution_count": 1,
   "metadata": {
    "collapsed": true
   },
   "outputs": [],
   "source": [
    "import pandas as pd\n",
    "import numpy as np\n",
    "import matplotlib.pyplot as plt\n",
    "import random, math\n",
    "from sklearn.linear_model import LinearRegression\n",
    "from sklearn.model_selection import KFold\n",
    "%matplotlib inline"
   ]
  },
  {
   "cell_type": "code",
   "execution_count": 2,
   "metadata": {},
   "outputs": [
    {
     "data": {
      "text/html": [
       "<div>\n",
       "<style>\n",
       "    .dataframe thead tr:only-child th {\n",
       "        text-align: right;\n",
       "    }\n",
       "\n",
       "    .dataframe thead th {\n",
       "        text-align: left;\n",
       "    }\n",
       "\n",
       "    .dataframe tbody tr th {\n",
       "        vertical-align: top;\n",
       "    }\n",
       "</style>\n",
       "<table border=\"1\" class=\"dataframe\">\n",
       "  <thead>\n",
       "    <tr style=\"text-align: right;\">\n",
       "      <th></th>\n",
       "      <th>TV</th>\n",
       "      <th>radio</th>\n",
       "      <th>newspaper</th>\n",
       "      <th>sales</th>\n",
       "    </tr>\n",
       "  </thead>\n",
       "  <tbody>\n",
       "    <tr>\n",
       "      <th>1</th>\n",
       "      <td>230.1</td>\n",
       "      <td>37.8</td>\n",
       "      <td>69.2</td>\n",
       "      <td>22.1</td>\n",
       "    </tr>\n",
       "    <tr>\n",
       "      <th>2</th>\n",
       "      <td>44.5</td>\n",
       "      <td>39.3</td>\n",
       "      <td>45.1</td>\n",
       "      <td>10.4</td>\n",
       "    </tr>\n",
       "    <tr>\n",
       "      <th>3</th>\n",
       "      <td>17.2</td>\n",
       "      <td>45.9</td>\n",
       "      <td>69.3</td>\n",
       "      <td>9.3</td>\n",
       "    </tr>\n",
       "    <tr>\n",
       "      <th>4</th>\n",
       "      <td>151.5</td>\n",
       "      <td>41.3</td>\n",
       "      <td>58.5</td>\n",
       "      <td>18.5</td>\n",
       "    </tr>\n",
       "    <tr>\n",
       "      <th>5</th>\n",
       "      <td>180.8</td>\n",
       "      <td>10.8</td>\n",
       "      <td>58.4</td>\n",
       "      <td>12.9</td>\n",
       "    </tr>\n",
       "  </tbody>\n",
       "</table>\n",
       "</div>"
      ],
      "text/plain": [
       "      TV  radio  newspaper  sales\n",
       "1  230.1   37.8       69.2   22.1\n",
       "2   44.5   39.3       45.1   10.4\n",
       "3   17.2   45.9       69.3    9.3\n",
       "4  151.5   41.3       58.5   18.5\n",
       "5  180.8   10.8       58.4   12.9"
      ]
     },
     "execution_count": 2,
     "metadata": {},
     "output_type": "execute_result"
    }
   ],
   "source": [
    "df = pd.read_csv('http://www-bcf.usc.edu/~gareth/ISL/Advertising.csv', index_col=0)\n",
    "df.head()"
   ]
  },
  {
   "cell_type": "code",
   "execution_count": 8,
   "metadata": {
    "collapsed": true
   },
   "outputs": [],
   "source": [
    "#create different arrays for sales and adv. types\n",
    "y = df.sales.values\n",
    "X = df.drop([\"sales\"], axis=1).values\n",
    "#add a column of 1s to X for the b0\n",
    "X = np.c_[np.ones(X.shape[0]),X]"
   ]
  },
  {
   "cell_type": "code",
   "execution_count": 136,
   "metadata": {
    "collapsed": true
   },
   "outputs": [],
   "source": [
    "#define ada_grad function\n",
    "def ada(X=0, y=0, m=10):\n",
    "    b = np.zeros(X.shape[1])\n",
    "    # Init sum of squared gradients \n",
    "    g = 0\n",
    "    \n",
    "    # Number of rows in df\n",
    "    n = X.shape[0]\n",
    "    \n",
    "    for k in range(m*n):\n",
    "        # Randomly select one row\n",
    "        i = np.random.randint(0, n)\n",
    "        \n",
    "        # Calculate gradient\n",
    "        grad = -(b.dot(X[i]) - y[i])*X[i]\n",
    "        \n",
    "        # Sum of previous gradients\n",
    "        g = g + (grad)**2        \n",
    "      \n",
    "        # Calculate new paramter\n",
    "        b = np.add(b,( 1/np.sqrt(g)) * grad)\n",
    "        \n",
    "    return b\n"
   ]
  },
  {
   "cell_type": "code",
   "execution_count": 138,
   "metadata": {},
   "outputs": [
    {
     "data": {
      "text/plain": [
       "array([ 2.04759737,  0.05341404,  0.21466297,  0.03741679])"
      ]
     },
     "execution_count": 138,
     "metadata": {},
     "output_type": "execute_result"
    }
   ],
   "source": [
    "b = ada(X=X, y=y)\n",
    "b"
   ]
  },
  {
   "cell_type": "code",
   "execution_count": 139,
   "metadata": {},
   "outputs": [
    {
     "data": {
      "text/plain": [
       "(8.4454884287459535,\n",
       " 0.68819433179692702,\n",
       " array([ 2.04759737,  0.05341404,  0.21466297,  0.03741679]))"
      ]
     },
     "execution_count": 139,
     "metadata": {},
     "output_type": "execute_result"
    }
   ],
   "source": [
    "n = len(df)\n",
    "rss =  sum((y[i]-b.dot(X[i]))**2 for i in range(n))\n",
    "tss = sum((y[i]-y.mean())**2 for i in range(n))\n",
    "r_squared = 1.-rss/tss\n",
    "mse = rss/n\n",
    "mse, r_squared, b"
   ]
  },
  {
   "cell_type": "markdown",
   "metadata": {},
   "source": [
    "### Exercise 2\n",
    "Run your algorithm to make the following prediction $$Sales = b_0 + b_1 TV$$ and plot the prediction against the original data using Matplotlib."
   ]
  },
  {
   "cell_type": "code",
   "execution_count": 140,
   "metadata": {
    "collapsed": true
   },
   "outputs": [],
   "source": [
    "#Insert ones in the first col\n",
    "X_TV = df.drop(['sales', 'newspaper', 'radio'], axis = 1).values\n",
    "X_TV = np.c_[np.ones(n), X_TV]"
   ]
  },
  {
   "cell_type": "code",
   "execution_count": 142,
   "metadata": {},
   "outputs": [
    {
     "data": {
      "text/plain": [
       "array([ 6.13580581,  0.06614661])"
      ]
     },
     "execution_count": 142,
     "metadata": {},
     "output_type": "execute_result"
    }
   ],
   "source": [
    "#Use the function defined in example one \n",
    "ada_TV = ada(X=X_TV, y=y)\n",
    "ada_TV"
   ]
  },
  {
   "cell_type": "code",
   "execution_count": 164,
   "metadata": {},
   "outputs": [
    {
     "data": {
      "text/plain": [
       "[21.356141664072553,\n",
       " 9.0793301268349573,\n",
       " 7.2735275677477471,\n",
       " 16.157017812634649,\n",
       " 18.095113599493818,\n",
       " 6.7112813497169306,\n",
       " 9.9392361073526772,\n",
       " 14.086628798003524,\n",
       " 6.7046666883283326,\n",
       " 19.351899263327407]"
      ]
     },
     "execution_count": 164,
     "metadata": {},
     "output_type": "execute_result"
    }
   ],
   "source": [
    "res = (ada_TV.dot(X_TV[i]) for i in range(n))\n",
    "res = list(res)\n",
    "res[0:10]"
   ]
  },
  {
   "cell_type": "code",
   "execution_count": 159,
   "metadata": {},
   "outputs": [
    {
     "data": {
      "text/plain": [
       "[<matplotlib.lines.Line2D at 0x241baaccf28>]"
      ]
     },
     "execution_count": 159,
     "metadata": {},
     "output_type": "execute_result"
    },
    {
     "data": {
      "image/png": "[encoded data removed]",
      "text/plain": [
       "<matplotlib.figure.Figure at 0x241ba5b0e48>"
      ]
     },
     "metadata": {},
     "output_type": "display_data"
    }
   ],
   "source": [
    "#Create the object and plot the observed and the predicted values \n",
    "fig, ax = plt.subplots()\n",
    "ax.plot(df['TV'], y, 'o')\n",
    "ax.plot(df['TV'], res, 'o')"
   ]
  },
  {
   "cell_type": "markdown",
   "metadata": {},
   "source": [
    "### Exercise 3\n",
    "Write an automated variable selection method that searches for the best polynomial degrees of 'TV' and 'radio' up to degree 5. You can do this by iteratively adding a polynomial as an additional column to the feature matrix $X$. Use the AIC to keep track of trade-off between number of model parameters (features) and model fit (RSS) and exit when the minimum AIC is reached."
   ]
  },
  {
   "cell_type": "code",
   "execution_count": 160,
   "metadata": {
    "collapsed": true
   },
   "outputs": [],
   "source": [
    "#Insert ones in the first col\n",
    "X_TV = df.drop(['sales', 'newspaper', 'radio'], axis = 1).values\n",
    "X_TV = np.c_[np.ones(n), X_TV]\n"
   ]
  },
  {
   "cell_type": "code",
   "execution_count": 161,
   "metadata": {
    "collapsed": true
   },
   "outputs": [],
   "source": [
    "def selection(X,y):\n",
    "    #Number of rows and columns + power used for new columns\n",
    "    rows = X.shape[0]\n",
    "    cols = X.shape[1]\n",
    "    power = 2\n",
    "    \n",
    "    #Use method from example one to get param vector\n",
    "    z = ada(X = X, y = y)\n",
    "    \n",
    "    #Define the sum of errors across all observations: rss\n",
    "    rss = sum((y[i] - z.dot(X[i]))** 2 for i in range(rows))\n",
    "    \n",
    "    #Define AIC\n",
    "    aic_1 = 2 * cols + rows * math.log(rss/rows) \n",
    "    \n",
    "    while True:\n",
    "        #New column is added \n",
    "        X_new = np.c_[X, np.power(X[:,1], power)]\n",
    "        \n",
    "        #Get amount of columns in X_new\n",
    "        cols = X_new.shape[1]\n",
    "        \n",
    "        #Use method again on X_new\n",
    "        z = ada(X = X_new, y = y)\n",
    "        \n",
    "         #Define the sum of errors across all observations: rss for X_new\n",
    "        rss = sum((y[i] - z.dot(X_new[i]))** 2 for i in range(rows))\n",
    "        \n",
    "        #Define AIC for the new model\n",
    "        aic_2 =  2 * cols + rows * math.log(rss / rows) \n",
    "        \n",
    "        #Checks if the new AIC is lower (better) than the old \n",
    "        if aic_2 <= aic_1:\n",
    "            #True, swap values and continue with while\n",
    "            X = X_new\n",
    "            aic_1 = aic_2\n",
    "            power = power + 1\n",
    "        else:\n",
    "            #False, output the old and the new AIC value, break and return\n",
    "            print('aic_1:  ' + str(aic_1))\n",
    "            print('aic_2:  ' + str(aic_2))\n",
    "            break\n",
    "    return X"
   ]
  },
  {
   "cell_type": "code",
   "execution_count": 163,
   "metadata": {},
   "outputs": [
    {
     "name": "stdout",
     "output_type": "stream",
     "text": [
      "aic_1:  602.8916166690159\n",
      "aic_2:  695.4410735319831\n"
     ]
    }
   ],
   "source": [
    "X_selection = selection(X=X_TV, y = y)"
   ]
  },
  {
   "cell_type": "markdown",
   "metadata": {},
   "source": [
    "### Exercise 4\n",
    "Now use cross validation to select the best order of the polynomial. Automatically stop when the minimum $MSE$ is reached. What do you observe when comparing it to the solution using the AIC?\n"
   ]
  },
  {
   "cell_type": "code",
   "execution_count": 172,
   "metadata": {
    "collapsed": true
   },
   "outputs": [],
   "source": [
    "def cross_val(X, y):\n",
    "    # Set start power\n",
    "    power = 2\n",
    "    # Set start MSE\n",
    "    mse_1 = 0\n",
    "    mse_0 = 0\n",
    "    \n",
    "    # Get number of rows\n",
    "    n = X.shape[0]\n",
    "    # Get number of columns\n",
    "    p = X.shape[1]\n",
    "    \n",
    "    for k, m in KFold(n_splits=5).split(X):\n",
    "        # Split Data into training and test sets\n",
    "        X_k, X_m = X[k], X[m]\n",
    "        y_k, y_m = y[k], y[m]\n",
    "        \n",
    "        b = ada(X=X_m, y=y_m)\n",
    "        \n",
    "        rss =  sum((y_k[i]-b.dot(X_k[i]))**2 for i in range(X_k.shape[0]))\n",
    "        mse_0 = rss/X.shape[0]\n",
    "        \n",
    "    #Here we check the models one by one if they are better than the one we have at the moment. We save the data in two\n",
    "    #variables mse_1 and mse_0 and compare them.\n",
    "    \n",
    "    while True:\n",
    "        # Add new column: TV on power of x\n",
    "        X = np.c_[X, np.power(X[:, 1], power)]\n",
    "        # Get number of colums\n",
    "        p = X.shape[1]\n",
    "\n",
    "        for k, m in KFold(n_splits=5).split(X):\n",
    "            # Split Data into training and test sets\n",
    "            X_k, X_m = X[k], X[m]\n",
    "            y_k, y_m = y[k], y[m]\n",
    "\n",
    "            b = ada(X=X_m, y=y_m)\n",
    "            rss =  sum((y_k[i]-b.dot(X_k[i]))**2 for i in range(X_k.shape[0]))\n",
    "            mse_1 = rss/X.shape[0]\n",
    "        \n",
    "        # Is the new model better then the old one?\n",
    "        if mse_1 < mse_0:\n",
    "            mse_0 = mse_1\n",
    "        else:\n",
    "            break\n",
    "    \n",
    "    return X"
   ]
  },
  {
   "cell_type": "code",
   "execution_count": 176,
   "metadata": {},
   "outputs": [
    {
     "data": {
      "text/plain": [
       "array([[  1.00000000e+00,   2.30100000e+02,   5.29460100e+04],\n",
       "       [  1.00000000e+00,   4.45000000e+01,   1.98025000e+03],\n",
       "       [  1.00000000e+00,   1.72000000e+01,   2.95840000e+02],\n",
       "       [  1.00000000e+00,   1.51500000e+02,   2.29522500e+04],\n",
       "       [  1.00000000e+00,   1.80800000e+02,   3.26886400e+04],\n",
       "       [  1.00000000e+00,   8.70000000e+00,   7.56900000e+01],\n",
       "       [  1.00000000e+00,   5.75000000e+01,   3.30625000e+03],\n",
       "       [  1.00000000e+00,   1.20200000e+02,   1.44480400e+04],\n",
       "       [  1.00000000e+00,   8.60000000e+00,   7.39600000e+01],\n",
       "       [  1.00000000e+00,   1.99800000e+02,   3.99200400e+04]])"
      ]
     },
     "execution_count": 176,
     "metadata": {},
     "output_type": "execute_result"
    }
   ],
   "source": [
    "crosscheck = cross_val(X=X_TV, y=y)\n",
    "crosscheck[0:10]"
   ]
  },
  {
   "cell_type": "code",
   "execution_count": 177,
   "metadata": {},
   "outputs": [
    {
     "data": {
      "text/plain": [
       "(200, 3)"
      ]
     },
     "execution_count": 177,
     "metadata": {},
     "output_type": "execute_result"
    }
   ],
   "source": [
    "crosscheck.shape\n"
   ]
  }
 ],
 "metadata": {
  "kernelspec": {
   "display_name": "Python 3",
   "language": "python",
   "name": "python3"
  },
  "language_info": {
   "codemirror_mode": {
    "name": "ipython",
    "version": 3
   },
   "file_extension": ".py",
   "mimetype": "text/x-python",
   "name": "python",
   "nbconvert_exporter": "python",
   "pygments_lexer": "ipython3",
   "version": "3.6.2"
  },
  "widgets": {
   "state": {},
   "version": "1.1.2"
  }
 },
 "nbformat": 4,
 "nbformat_minor": 1
}
